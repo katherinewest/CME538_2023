{
 "cells": [
  {
   "cell_type": "markdown",
   "id": "cc5d4ecd-61aa-40ed-9c4f-9cd307533a53",
   "metadata": {},
   "source": [
    "## CME538 GROUP PROJECT\n",
    "\n",
    "TTC SUBWAY EXPLORATORY DATA ANALYSIS DATA VISUALIZATIONS PART 1"
   ]
  },
  {
   "cell_type": "markdown",
   "id": "06378c72-6d53-4aa1-a022-2668fd5092f9",
   "metadata": {},
   "source": [
    "### Set up Notebook"
   ]
  },
  {
   "cell_type": "code",
   "execution_count": 43,
   "id": "17f5df9a-6593-4c95-91cf-f37b493a4beb",
   "metadata": {
    "ExecuteTime": {
     "end_time": "2023-12-06T02:49:43.302564900Z",
     "start_time": "2023-12-06T02:49:42.924779Z"
    }
   },
   "outputs": [],
   "source": [
    "import pandas as pd\n",
    "# 3rd party imports\n",
    "import os\n",
    "import json\n",
    "import seaborn as sns\n",
    "from datetime import datetime\n",
    "import matplotlib.pylab as plt\n",
    "import math\n",
    "import numpy as np\n",
    "\n",
    "# Configure Notebook\n",
    "#for plots to be inline\n",
    "%matplotlib inline \n",
    "#for auto_complete \n",
    "%config Completer.use_jedi = False "
   ]
  },
  {
   "cell_type": "code",
   "execution_count": 44,
   "id": "fe5c3088-f344-4394-b4a0-94ff1714adf6",
   "metadata": {
    "ExecuteTime": {
     "end_time": "2023-12-06T02:49:47.252814300Z",
     "start_time": "2023-12-06T02:49:42.929145400Z"
    }
   },
   "outputs": [
    {
     "name": "stderr",
     "output_type": "stream",
     "text": [
      "C:\\Users\\diana\\AppData\\Local\\Temp\\ipykernel_23112\\3802667290.py:3: DtypeWarning: Columns (2) have mixed types. Specify dtype option on import or set low_memory=False.\n",
      "  ttc_bus_df = pd.read_csv(\"ttc_bus_df.csv\")\n"
     ]
    }
   ],
   "source": [
    "# Import data\n",
    "ttc_subway_df = pd.read_csv(\"ttc_subway_df.csv\")\n",
    "ttc_bus_df = pd.read_csv(\"ttc_bus_df.csv\")\n",
    "octranspo_df = pd.read_csv(\"OC_Transpo_Bus_Info_With_Times.csv\")\n",
    "stm_df = pd.read_csv(\"stm_df.csv\")\n"
   ]
  },
  {
   "cell_type": "markdown",
   "source": [
    "\n",
    "### TTC SUBWAY"
   ],
   "metadata": {
    "collapsed": false
   },
   "id": "72736d60e39bb2d3"
  },
  {
   "cell_type": "code",
   "execution_count": 45,
   "id": "ceef688a-adcd-407f-99b3-6e6fda92a644",
   "metadata": {
    "ExecuteTime": {
     "end_time": "2023-12-06T02:49:47.252814300Z",
     "start_time": "2023-12-06T02:49:43.838487300Z"
    }
   },
   "outputs": [
    {
     "data": {
      "text/plain": "   Unnamed: 0        Date   Time       Day                 Station   Code  \\\n0           0  2022-01-01  15:59  Saturday   LAWRENCE EAST STATION   SRDP   \n1           1  2022-01-01  02:23  Saturday      SPADINA BD STATION   MUIS   \n2           2  2022-01-01  22:00  Saturday  KENNEDY SRT STATION TO    MRO   \n3           3  2022-01-01  02:28  Saturday      VAUGHAN MC STATION   MUIS   \n4           4  2022-01-01  02:34  Saturday        EGLINTON STATION  MUATC   \n\n   Min Delay  Min Gap Bound Line  Vehicle  \n0          0        0     N  SRT     3023  \n1          0        0   NaN   BD        0  \n2          0        0   NaN  SRT        0  \n3          0        0   NaN   YU        0  \n4          0        0     S   YU     5981  ",
      "text/html": "<div>\n<style scoped>\n    .dataframe tbody tr th:only-of-type {\n        vertical-align: middle;\n    }\n\n    .dataframe tbody tr th {\n        vertical-align: top;\n    }\n\n    .dataframe thead th {\n        text-align: right;\n    }\n</style>\n<table border=\"1\" class=\"dataframe\">\n  <thead>\n    <tr style=\"text-align: right;\">\n      <th></th>\n      <th>Unnamed: 0</th>\n      <th>Date</th>\n      <th>Time</th>\n      <th>Day</th>\n      <th>Station</th>\n      <th>Code</th>\n      <th>Min Delay</th>\n      <th>Min Gap</th>\n      <th>Bound</th>\n      <th>Line</th>\n      <th>Vehicle</th>\n    </tr>\n  </thead>\n  <tbody>\n    <tr>\n      <th>0</th>\n      <td>0</td>\n      <td>2022-01-01</td>\n      <td>15:59</td>\n      <td>Saturday</td>\n      <td>LAWRENCE EAST STATION</td>\n      <td>SRDP</td>\n      <td>0</td>\n      <td>0</td>\n      <td>N</td>\n      <td>SRT</td>\n      <td>3023</td>\n    </tr>\n    <tr>\n      <th>1</th>\n      <td>1</td>\n      <td>2022-01-01</td>\n      <td>02:23</td>\n      <td>Saturday</td>\n      <td>SPADINA BD STATION</td>\n      <td>MUIS</td>\n      <td>0</td>\n      <td>0</td>\n      <td>NaN</td>\n      <td>BD</td>\n      <td>0</td>\n    </tr>\n    <tr>\n      <th>2</th>\n      <td>2</td>\n      <td>2022-01-01</td>\n      <td>22:00</td>\n      <td>Saturday</td>\n      <td>KENNEDY SRT STATION TO</td>\n      <td>MRO</td>\n      <td>0</td>\n      <td>0</td>\n      <td>NaN</td>\n      <td>SRT</td>\n      <td>0</td>\n    </tr>\n    <tr>\n      <th>3</th>\n      <td>3</td>\n      <td>2022-01-01</td>\n      <td>02:28</td>\n      <td>Saturday</td>\n      <td>VAUGHAN MC STATION</td>\n      <td>MUIS</td>\n      <td>0</td>\n      <td>0</td>\n      <td>NaN</td>\n      <td>YU</td>\n      <td>0</td>\n    </tr>\n    <tr>\n      <th>4</th>\n      <td>4</td>\n      <td>2022-01-01</td>\n      <td>02:34</td>\n      <td>Saturday</td>\n      <td>EGLINTON STATION</td>\n      <td>MUATC</td>\n      <td>0</td>\n      <td>0</td>\n      <td>S</td>\n      <td>YU</td>\n      <td>5981</td>\n    </tr>\n  </tbody>\n</table>\n</div>"
     },
     "execution_count": 45,
     "metadata": {},
     "output_type": "execute_result"
    }
   ],
   "source": [
    "ttc_subway_df.head()"
   ]
  },
  {
   "cell_type": "code",
   "execution_count": 46,
   "id": "63efb9df-378b-44b1-a2ce-0decb375c9d3",
   "metadata": {
    "ExecuteTime": {
     "end_time": "2023-12-06T02:49:47.252814300Z",
     "start_time": "2023-12-06T02:49:43.854309Z"
    }
   },
   "outputs": [
    {
     "name": "stdout",
     "output_type": "stream",
     "text": [
      "<class 'pandas.core.frame.DataFrame'>\n",
      "RangeIndex: 108004 entries, 0 to 108003\n",
      "Data columns (total 11 columns):\n",
      " #   Column      Non-Null Count   Dtype \n",
      "---  ------      --------------   ----- \n",
      " 0   Unnamed: 0  108004 non-null  int64 \n",
      " 1   Date        108004 non-null  object\n",
      " 2   Time        108004 non-null  object\n",
      " 3   Day         108004 non-null  object\n",
      " 4   Station     108004 non-null  object\n",
      " 5   Code        108004 non-null  object\n",
      " 6   Min Delay   108004 non-null  int64 \n",
      " 7   Min Gap     108004 non-null  int64 \n",
      " 8   Bound       79240 non-null   object\n",
      " 9   Line        107675 non-null  object\n",
      " 10  Vehicle     108004 non-null  int64 \n",
      "dtypes: int64(4), object(7)\n",
      "memory usage: 9.1+ MB\n"
     ]
    }
   ],
   "source": [
    "# print dataframe info\n",
    "ttc_subway_df.info()"
   ]
  },
  {
   "cell_type": "code",
   "execution_count": 47,
   "id": "cdda53f3-0e74-4dbb-b865-6cb47a09dbb9",
   "metadata": {
    "ExecuteTime": {
     "end_time": "2023-12-06T02:49:47.252814300Z",
     "start_time": "2023-12-06T02:49:43.886065200Z"
    }
   },
   "outputs": [
    {
     "name": "stdout",
     "output_type": "stream",
     "text": [
      "<class 'pandas.core.frame.DataFrame'>\n",
      "RangeIndex: 108004 entries, 0 to 108003\n",
      "Data columns (total 11 columns):\n",
      " #   Column      Non-Null Count   Dtype         \n",
      "---  ------      --------------   -----         \n",
      " 0   Unnamed: 0  108004 non-null  int64         \n",
      " 1   Date        108004 non-null  datetime64[ns]\n",
      " 2   Time        108004 non-null  object        \n",
      " 3   Day         108004 non-null  object        \n",
      " 4   Station     108004 non-null  object        \n",
      " 5   Code        108004 non-null  object        \n",
      " 6   Min Delay   108004 non-null  int64         \n",
      " 7   Min Gap     108004 non-null  int64         \n",
      " 8   Bound       79240 non-null   object        \n",
      " 9   Line        107675 non-null  object        \n",
      " 10  Vehicle     108004 non-null  int64         \n",
      "dtypes: datetime64[ns](1), int64(4), object(6)\n",
      "memory usage: 9.1+ MB\n"
     ]
    }
   ],
   "source": [
    "#Convert the 'Date' colum to datetime format\n",
    "ttc_subway_df['Date'] = pd.to_datetime(ttc_subway_df['Date'])\n",
    "ttc_subway_df.info()"
   ]
  },
  {
   "cell_type": "code",
   "execution_count": 48,
   "id": "80077e43-1227-4dc4-af7e-b472fd3b2fa4",
   "metadata": {
    "ExecuteTime": {
     "end_time": "2023-12-06T02:49:47.252814300Z",
     "start_time": "2023-12-06T02:49:43.934147400Z"
    }
   },
   "outputs": [
    {
     "data": {
      "text/plain": "            Unnamed: 0   Time       Day                 Station   Code  \\\nDate                                                                     \n2022-01-01           0  15:59  Saturday   LAWRENCE EAST STATION   SRDP   \n2022-01-01           1  02:23  Saturday      SPADINA BD STATION   MUIS   \n2022-01-01           2  22:00  Saturday  KENNEDY SRT STATION TO    MRO   \n2022-01-01           3  02:28  Saturday      VAUGHAN MC STATION   MUIS   \n2022-01-01           4  02:34  Saturday        EGLINTON STATION  MUATC   \n\n            Min Delay  Min Gap Bound Line  Vehicle  \nDate                                                \n2022-01-01          0        0     N  SRT     3023  \n2022-01-01          0        0   NaN   BD        0  \n2022-01-01          0        0   NaN  SRT        0  \n2022-01-01          0        0   NaN   YU        0  \n2022-01-01          0        0     S   YU     5981  ",
      "text/html": "<div>\n<style scoped>\n    .dataframe tbody tr th:only-of-type {\n        vertical-align: middle;\n    }\n\n    .dataframe tbody tr th {\n        vertical-align: top;\n    }\n\n    .dataframe thead th {\n        text-align: right;\n    }\n</style>\n<table border=\"1\" class=\"dataframe\">\n  <thead>\n    <tr style=\"text-align: right;\">\n      <th></th>\n      <th>Unnamed: 0</th>\n      <th>Time</th>\n      <th>Day</th>\n      <th>Station</th>\n      <th>Code</th>\n      <th>Min Delay</th>\n      <th>Min Gap</th>\n      <th>Bound</th>\n      <th>Line</th>\n      <th>Vehicle</th>\n    </tr>\n    <tr>\n      <th>Date</th>\n      <th></th>\n      <th></th>\n      <th></th>\n      <th></th>\n      <th></th>\n      <th></th>\n      <th></th>\n      <th></th>\n      <th></th>\n      <th></th>\n    </tr>\n  </thead>\n  <tbody>\n    <tr>\n      <th>2022-01-01</th>\n      <td>0</td>\n      <td>15:59</td>\n      <td>Saturday</td>\n      <td>LAWRENCE EAST STATION</td>\n      <td>SRDP</td>\n      <td>0</td>\n      <td>0</td>\n      <td>N</td>\n      <td>SRT</td>\n      <td>3023</td>\n    </tr>\n    <tr>\n      <th>2022-01-01</th>\n      <td>1</td>\n      <td>02:23</td>\n      <td>Saturday</td>\n      <td>SPADINA BD STATION</td>\n      <td>MUIS</td>\n      <td>0</td>\n      <td>0</td>\n      <td>NaN</td>\n      <td>BD</td>\n      <td>0</td>\n    </tr>\n    <tr>\n      <th>2022-01-01</th>\n      <td>2</td>\n      <td>22:00</td>\n      <td>Saturday</td>\n      <td>KENNEDY SRT STATION TO</td>\n      <td>MRO</td>\n      <td>0</td>\n      <td>0</td>\n      <td>NaN</td>\n      <td>SRT</td>\n      <td>0</td>\n    </tr>\n    <tr>\n      <th>2022-01-01</th>\n      <td>3</td>\n      <td>02:28</td>\n      <td>Saturday</td>\n      <td>VAUGHAN MC STATION</td>\n      <td>MUIS</td>\n      <td>0</td>\n      <td>0</td>\n      <td>NaN</td>\n      <td>YU</td>\n      <td>0</td>\n    </tr>\n    <tr>\n      <th>2022-01-01</th>\n      <td>4</td>\n      <td>02:34</td>\n      <td>Saturday</td>\n      <td>EGLINTON STATION</td>\n      <td>MUATC</td>\n      <td>0</td>\n      <td>0</td>\n      <td>S</td>\n      <td>YU</td>\n      <td>5981</td>\n    </tr>\n  </tbody>\n</table>\n</div>"
     },
     "execution_count": 48,
     "metadata": {},
     "output_type": "execute_result"
    }
   ],
   "source": [
    "# Set the data colum as the index\n",
    "#Subway DF\n",
    "ttc_subway_df.set_index('Date', inplace = True)\n",
    "ttc_subway_df.head()\n",
    "\n"
   ]
  },
  {
   "cell_type": "markdown",
   "id": "9c7e6e7d-fec6-4526-82a7-24d106797dd0",
   "metadata": {},
   "source": [
    "### Time-based indexing"
   ]
  },
  {
   "cell_type": "code",
   "execution_count": 49,
   "id": "3fffe926-456c-414a-afcd-75729e3e3888",
   "metadata": {
    "ExecuteTime": {
     "end_time": "2023-12-06T02:49:47.252814300Z",
     "start_time": "2023-12-06T02:49:43.948852900Z"
    }
   },
   "outputs": [
    {
     "data": {
      "text/plain": "            Unnamed: 0   Time     Day                Station   Code  \\\nDate                                                                  \n2021-12-31      107999  01:10  Friday         MUSEUM STATION   SUUT   \n2021-12-31      108000  01:12  Friday          FINCH STATION   SUDP   \n2021-12-31      108001  01:21  Friday  EGLINTON WEST STATION  PUOPO   \n2021-12-31      108002  01:37  Friday  SHEPPARD WEST STATION   SUDP   \n2021-12-31      108003  07:00  Friday      DON MILLS STATION   TUSC   \n\n            Min Delay  Min Gap Bound Line  Vehicle  year  month  month_day  \nDate                                                                        \n2021-12-31          0        0     N   YU     5591  2021     12         31  \n2021-12-31          5       10     S   YU     5983  2021     12         31  \n2021-12-31          3        8     N   YU     6046  2021     12         31  \n2021-12-31          0        0     S   YU     5536  2021     12         31  \n2021-12-31          0        0     E  SHP     6146  2021     12         31  ",
      "text/html": "<div>\n<style scoped>\n    .dataframe tbody tr th:only-of-type {\n        vertical-align: middle;\n    }\n\n    .dataframe tbody tr th {\n        vertical-align: top;\n    }\n\n    .dataframe thead th {\n        text-align: right;\n    }\n</style>\n<table border=\"1\" class=\"dataframe\">\n  <thead>\n    <tr style=\"text-align: right;\">\n      <th></th>\n      <th>Unnamed: 0</th>\n      <th>Time</th>\n      <th>Day</th>\n      <th>Station</th>\n      <th>Code</th>\n      <th>Min Delay</th>\n      <th>Min Gap</th>\n      <th>Bound</th>\n      <th>Line</th>\n      <th>Vehicle</th>\n      <th>year</th>\n      <th>month</th>\n      <th>month_day</th>\n    </tr>\n    <tr>\n      <th>Date</th>\n      <th></th>\n      <th></th>\n      <th></th>\n      <th></th>\n      <th></th>\n      <th></th>\n      <th></th>\n      <th></th>\n      <th></th>\n      <th></th>\n      <th></th>\n      <th></th>\n      <th></th>\n    </tr>\n  </thead>\n  <tbody>\n    <tr>\n      <th>2021-12-31</th>\n      <td>107999</td>\n      <td>01:10</td>\n      <td>Friday</td>\n      <td>MUSEUM STATION</td>\n      <td>SUUT</td>\n      <td>0</td>\n      <td>0</td>\n      <td>N</td>\n      <td>YU</td>\n      <td>5591</td>\n      <td>2021</td>\n      <td>12</td>\n      <td>31</td>\n    </tr>\n    <tr>\n      <th>2021-12-31</th>\n      <td>108000</td>\n      <td>01:12</td>\n      <td>Friday</td>\n      <td>FINCH STATION</td>\n      <td>SUDP</td>\n      <td>5</td>\n      <td>10</td>\n      <td>S</td>\n      <td>YU</td>\n      <td>5983</td>\n      <td>2021</td>\n      <td>12</td>\n      <td>31</td>\n    </tr>\n    <tr>\n      <th>2021-12-31</th>\n      <td>108001</td>\n      <td>01:21</td>\n      <td>Friday</td>\n      <td>EGLINTON WEST STATION</td>\n      <td>PUOPO</td>\n      <td>3</td>\n      <td>8</td>\n      <td>N</td>\n      <td>YU</td>\n      <td>6046</td>\n      <td>2021</td>\n      <td>12</td>\n      <td>31</td>\n    </tr>\n    <tr>\n      <th>2021-12-31</th>\n      <td>108002</td>\n      <td>01:37</td>\n      <td>Friday</td>\n      <td>SHEPPARD WEST STATION</td>\n      <td>SUDP</td>\n      <td>0</td>\n      <td>0</td>\n      <td>S</td>\n      <td>YU</td>\n      <td>5536</td>\n      <td>2021</td>\n      <td>12</td>\n      <td>31</td>\n    </tr>\n    <tr>\n      <th>2021-12-31</th>\n      <td>108003</td>\n      <td>07:00</td>\n      <td>Friday</td>\n      <td>DON MILLS STATION</td>\n      <td>TUSC</td>\n      <td>0</td>\n      <td>0</td>\n      <td>E</td>\n      <td>SHP</td>\n      <td>6146</td>\n      <td>2021</td>\n      <td>12</td>\n      <td>31</td>\n    </tr>\n  </tbody>\n</table>\n</div>"
     },
     "execution_count": 49,
     "metadata": {},
     "output_type": "execute_result"
    }
   ],
   "source": [
    "# Add new columns 'year', 'month' and 'month_day'that indicate the year, month and day associated with each observation\n",
    "\n",
    "ttc_subway_df['year'] = ttc_subway_df.index.year\n",
    "ttc_subway_df['month'] = ttc_subway_df.index.month\n",
    "ttc_subway_df['month_day'] = ttc_subway_df.index.day\n",
    "ttc_subway_df.tail()"
   ]
  },
  {
   "cell_type": "code",
   "execution_count": 50,
   "id": "321170ad-9857-48c1-a034-fed439b49012",
   "metadata": {
    "ExecuteTime": {
     "end_time": "2023-12-06T02:49:47.252814300Z",
     "start_time": "2023-12-06T02:49:43.996037600Z"
    }
   },
   "outputs": [
    {
     "name": "stdout",
     "output_type": "stream",
     "text": [
      "<class 'pandas.core.frame.DataFrame'>\n",
      "DatetimeIndex: 108004 entries, 2022-01-01 to 2021-12-31\n",
      "Data columns (total 13 columns):\n",
      " #   Column      Non-Null Count   Dtype \n",
      "---  ------      --------------   ----- \n",
      " 0   Unnamed: 0  108004 non-null  int64 \n",
      " 1   Time        108004 non-null  object\n",
      " 2   Day         108004 non-null  object\n",
      " 3   Station     108004 non-null  object\n",
      " 4   Code        108004 non-null  object\n",
      " 5   Min Delay   108004 non-null  int64 \n",
      " 6   Min Gap     108004 non-null  int64 \n",
      " 7   Bound       79240 non-null   object\n",
      " 8   Line        107675 non-null  object\n",
      " 9   Vehicle     108004 non-null  int64 \n",
      " 10  year        108004 non-null  int32 \n",
      " 11  month       108004 non-null  int32 \n",
      " 12  month_day   108004 non-null  int32 \n",
      "dtypes: int32(3), int64(4), object(6)\n",
      "memory usage: 10.3+ MB\n"
     ]
    }
   ],
   "source": [
    "ttc_subway_df.info()"
   ]
  },
  {
   "cell_type": "markdown",
   "source": [
    "### TTC BUS "
   ],
   "metadata": {
    "collapsed": false
   },
   "id": "8077ec4f84263ba"
  },
  {
   "cell_type": "code",
   "execution_count": 51,
   "outputs": [
    {
     "data": {
      "text/plain": "        Unnamed: 0 Report Date Route      Time       Day  \\\n0                0  2018-01-01   165  00:17:00    Monday   \n1                1  2018-01-01   706  00:20:00    Monday   \n2                2  2018-01-01    28  00:30:00    Monday   \n3                3  2018-01-01    12  00:55:00    Monday   \n4                4  2018-01-01    72  00:55:00    Monday   \n...            ...         ...   ...       ...       ...   \n313455      313455  2023-09-30    41     23:45  Saturday   \n313456      313456  2023-09-30   121     23:55  Saturday   \n313457      313457  2023-09-30    52     00:29  Saturday   \n313458      313458  2023-09-30    70     00:54  Saturday   \n313459      313459  2023-09-30   133     01:10  Saturday   \n\n                      Location               Incident  Min Delay  Min Gap  \\\n0                   Wilson Stn             Mechanical       10.0     20.0   \n1            Birchmount Garage     Utilized Off Route        1.0      1.0   \n2           Davisville Station          Investigation       30.0     60.0   \n3              Kennedy Station             Mechanical       22.0     44.0   \n4                 Pape Station             Mechanical       18.0     36.0   \n...                        ...                    ...        ...      ...   \n313455           KEELE STATION             Mechanical       22.0     44.0   \n313456     103 LOWER JARVIS ST  Operations - Operator       20.0     40.0   \n313457  THE WESTWAY AND KIPLIN     Emergency Services       23.0     46.0   \n313458         COXWELL STATION  Operations - Operator       15.0     30.0   \n313459  SCARBOROUGH TOWN CENTR     Utilized Off Route       20.0     40.0   \n\n       Direction  Vehicle  \n0            W/B   1291.0  \n1            S/B   8123.0  \n2            S/B   8306.0  \n3            S/B   7777.0  \n4            NaN   7787.0  \n...          ...      ...  \n313455       NaN   1420.0  \n313456         E   8577.0  \n313457         W   3576.0  \n313458         E   8440.0  \n313459         N   3492.0  \n\n[313460 rows x 11 columns]",
      "text/html": "<div>\n<style scoped>\n    .dataframe tbody tr th:only-of-type {\n        vertical-align: middle;\n    }\n\n    .dataframe tbody tr th {\n        vertical-align: top;\n    }\n\n    .dataframe thead th {\n        text-align: right;\n    }\n</style>\n<table border=\"1\" class=\"dataframe\">\n  <thead>\n    <tr style=\"text-align: right;\">\n      <th></th>\n      <th>Unnamed: 0</th>\n      <th>Report Date</th>\n      <th>Route</th>\n      <th>Time</th>\n      <th>Day</th>\n      <th>Location</th>\n      <th>Incident</th>\n      <th>Min Delay</th>\n      <th>Min Gap</th>\n      <th>Direction</th>\n      <th>Vehicle</th>\n    </tr>\n  </thead>\n  <tbody>\n    <tr>\n      <th>0</th>\n      <td>0</td>\n      <td>2018-01-01</td>\n      <td>165</td>\n      <td>00:17:00</td>\n      <td>Monday</td>\n      <td>Wilson Stn</td>\n      <td>Mechanical</td>\n      <td>10.0</td>\n      <td>20.0</td>\n      <td>W/B</td>\n      <td>1291.0</td>\n    </tr>\n    <tr>\n      <th>1</th>\n      <td>1</td>\n      <td>2018-01-01</td>\n      <td>706</td>\n      <td>00:20:00</td>\n      <td>Monday</td>\n      <td>Birchmount Garage</td>\n      <td>Utilized Off Route</td>\n      <td>1.0</td>\n      <td>1.0</td>\n      <td>S/B</td>\n      <td>8123.0</td>\n    </tr>\n    <tr>\n      <th>2</th>\n      <td>2</td>\n      <td>2018-01-01</td>\n      <td>28</td>\n      <td>00:30:00</td>\n      <td>Monday</td>\n      <td>Davisville Station</td>\n      <td>Investigation</td>\n      <td>30.0</td>\n      <td>60.0</td>\n      <td>S/B</td>\n      <td>8306.0</td>\n    </tr>\n    <tr>\n      <th>3</th>\n      <td>3</td>\n      <td>2018-01-01</td>\n      <td>12</td>\n      <td>00:55:00</td>\n      <td>Monday</td>\n      <td>Kennedy Station</td>\n      <td>Mechanical</td>\n      <td>22.0</td>\n      <td>44.0</td>\n      <td>S/B</td>\n      <td>7777.0</td>\n    </tr>\n    <tr>\n      <th>4</th>\n      <td>4</td>\n      <td>2018-01-01</td>\n      <td>72</td>\n      <td>00:55:00</td>\n      <td>Monday</td>\n      <td>Pape Station</td>\n      <td>Mechanical</td>\n      <td>18.0</td>\n      <td>36.0</td>\n      <td>NaN</td>\n      <td>7787.0</td>\n    </tr>\n    <tr>\n      <th>...</th>\n      <td>...</td>\n      <td>...</td>\n      <td>...</td>\n      <td>...</td>\n      <td>...</td>\n      <td>...</td>\n      <td>...</td>\n      <td>...</td>\n      <td>...</td>\n      <td>...</td>\n      <td>...</td>\n    </tr>\n    <tr>\n      <th>313455</th>\n      <td>313455</td>\n      <td>2023-09-30</td>\n      <td>41</td>\n      <td>23:45</td>\n      <td>Saturday</td>\n      <td>KEELE STATION</td>\n      <td>Mechanical</td>\n      <td>22.0</td>\n      <td>44.0</td>\n      <td>NaN</td>\n      <td>1420.0</td>\n    </tr>\n    <tr>\n      <th>313456</th>\n      <td>313456</td>\n      <td>2023-09-30</td>\n      <td>121</td>\n      <td>23:55</td>\n      <td>Saturday</td>\n      <td>103 LOWER JARVIS ST</td>\n      <td>Operations - Operator</td>\n      <td>20.0</td>\n      <td>40.0</td>\n      <td>E</td>\n      <td>8577.0</td>\n    </tr>\n    <tr>\n      <th>313457</th>\n      <td>313457</td>\n      <td>2023-09-30</td>\n      <td>52</td>\n      <td>00:29</td>\n      <td>Saturday</td>\n      <td>THE WESTWAY AND KIPLIN</td>\n      <td>Emergency Services</td>\n      <td>23.0</td>\n      <td>46.0</td>\n      <td>W</td>\n      <td>3576.0</td>\n    </tr>\n    <tr>\n      <th>313458</th>\n      <td>313458</td>\n      <td>2023-09-30</td>\n      <td>70</td>\n      <td>00:54</td>\n      <td>Saturday</td>\n      <td>COXWELL STATION</td>\n      <td>Operations - Operator</td>\n      <td>15.0</td>\n      <td>30.0</td>\n      <td>E</td>\n      <td>8440.0</td>\n    </tr>\n    <tr>\n      <th>313459</th>\n      <td>313459</td>\n      <td>2023-09-30</td>\n      <td>133</td>\n      <td>01:10</td>\n      <td>Saturday</td>\n      <td>SCARBOROUGH TOWN CENTR</td>\n      <td>Utilized Off Route</td>\n      <td>20.0</td>\n      <td>40.0</td>\n      <td>N</td>\n      <td>3492.0</td>\n    </tr>\n  </tbody>\n</table>\n<p>313460 rows × 11 columns</p>\n</div>"
     },
     "execution_count": 51,
     "metadata": {},
     "output_type": "execute_result"
    }
   ],
   "source": [
    "ttc_bus_df"
   ],
   "metadata": {
    "collapsed": false,
    "ExecuteTime": {
     "end_time": "2023-12-06T02:49:47.268448700Z",
     "start_time": "2023-12-06T02:49:44.027564500Z"
    }
   },
   "id": "b508dd223c8e4fc1"
  },
  {
   "cell_type": "code",
   "execution_count": 52,
   "outputs": [
    {
     "name": "stdout",
     "output_type": "stream",
     "text": [
      "<class 'pandas.core.frame.DataFrame'>\n",
      "RangeIndex: 313460 entries, 0 to 313459\n",
      "Data columns (total 12 columns):\n",
      " #   Column       Non-Null Count   Dtype         \n",
      "---  ------       --------------   -----         \n",
      " 0   Unnamed: 0   313460 non-null  int64         \n",
      " 1   Report Date  313460 non-null  object        \n",
      " 2   Route        312339 non-null  object        \n",
      " 3   Time         313460 non-null  object        \n",
      " 4   Day          313460 non-null  object        \n",
      " 5   Location     313154 non-null  object        \n",
      " 6   Incident     312525 non-null  object        \n",
      " 7   Min Delay    307525 non-null  float64       \n",
      " 8   Min Gap      312570 non-null  float64       \n",
      " 9   Direction    281162 non-null  object        \n",
      " 10  Vehicle      286529 non-null  float64       \n",
      " 11  Date         313460 non-null  datetime64[ns]\n",
      "dtypes: datetime64[ns](1), float64(3), int64(1), object(7)\n",
      "memory usage: 28.7+ MB\n"
     ]
    }
   ],
   "source": [
    "#Convert the 'Date' colum to datetime format\n",
    "ttc_bus_df['Date'] = pd.to_datetime(ttc_bus_df['Report Date'])\n",
    "ttc_bus_df.info()"
   ],
   "metadata": {
    "collapsed": false,
    "ExecuteTime": {
     "end_time": "2023-12-06T02:49:47.268448700Z",
     "start_time": "2023-12-06T02:49:44.043620400Z"
    }
   },
   "id": "acfd4b3ea98b016e"
  },
  {
   "cell_type": "code",
   "execution_count": 53,
   "outputs": [
    {
     "data": {
      "text/plain": "            Unnamed: 0 Report Date Route      Time     Day  \\\nDate                                                         \n2018-01-01           0  2018-01-01   165  00:17:00  Monday   \n2018-01-01           1  2018-01-01   706  00:20:00  Monday   \n2018-01-01           2  2018-01-01    28  00:30:00  Monday   \n2018-01-01           3  2018-01-01    12  00:55:00  Monday   \n2018-01-01           4  2018-01-01    72  00:55:00  Monday   \n\n                      Location            Incident  Min Delay  Min Gap  \\\nDate                                                                     \n2018-01-01          Wilson Stn          Mechanical       10.0     20.0   \n2018-01-01   Birchmount Garage  Utilized Off Route        1.0      1.0   \n2018-01-01  Davisville Station       Investigation       30.0     60.0   \n2018-01-01     Kennedy Station          Mechanical       22.0     44.0   \n2018-01-01        Pape Station          Mechanical       18.0     36.0   \n\n           Direction  Vehicle  \nDate                           \n2018-01-01       W/B   1291.0  \n2018-01-01       S/B   8123.0  \n2018-01-01       S/B   8306.0  \n2018-01-01       S/B   7777.0  \n2018-01-01       NaN   7787.0  ",
      "text/html": "<div>\n<style scoped>\n    .dataframe tbody tr th:only-of-type {\n        vertical-align: middle;\n    }\n\n    .dataframe tbody tr th {\n        vertical-align: top;\n    }\n\n    .dataframe thead th {\n        text-align: right;\n    }\n</style>\n<table border=\"1\" class=\"dataframe\">\n  <thead>\n    <tr style=\"text-align: right;\">\n      <th></th>\n      <th>Unnamed: 0</th>\n      <th>Report Date</th>\n      <th>Route</th>\n      <th>Time</th>\n      <th>Day</th>\n      <th>Location</th>\n      <th>Incident</th>\n      <th>Min Delay</th>\n      <th>Min Gap</th>\n      <th>Direction</th>\n      <th>Vehicle</th>\n    </tr>\n    <tr>\n      <th>Date</th>\n      <th></th>\n      <th></th>\n      <th></th>\n      <th></th>\n      <th></th>\n      <th></th>\n      <th></th>\n      <th></th>\n      <th></th>\n      <th></th>\n      <th></th>\n    </tr>\n  </thead>\n  <tbody>\n    <tr>\n      <th>2018-01-01</th>\n      <td>0</td>\n      <td>2018-01-01</td>\n      <td>165</td>\n      <td>00:17:00</td>\n      <td>Monday</td>\n      <td>Wilson Stn</td>\n      <td>Mechanical</td>\n      <td>10.0</td>\n      <td>20.0</td>\n      <td>W/B</td>\n      <td>1291.0</td>\n    </tr>\n    <tr>\n      <th>2018-01-01</th>\n      <td>1</td>\n      <td>2018-01-01</td>\n      <td>706</td>\n      <td>00:20:00</td>\n      <td>Monday</td>\n      <td>Birchmount Garage</td>\n      <td>Utilized Off Route</td>\n      <td>1.0</td>\n      <td>1.0</td>\n      <td>S/B</td>\n      <td>8123.0</td>\n    </tr>\n    <tr>\n      <th>2018-01-01</th>\n      <td>2</td>\n      <td>2018-01-01</td>\n      <td>28</td>\n      <td>00:30:00</td>\n      <td>Monday</td>\n      <td>Davisville Station</td>\n      <td>Investigation</td>\n      <td>30.0</td>\n      <td>60.0</td>\n      <td>S/B</td>\n      <td>8306.0</td>\n    </tr>\n    <tr>\n      <th>2018-01-01</th>\n      <td>3</td>\n      <td>2018-01-01</td>\n      <td>12</td>\n      <td>00:55:00</td>\n      <td>Monday</td>\n      <td>Kennedy Station</td>\n      <td>Mechanical</td>\n      <td>22.0</td>\n      <td>44.0</td>\n      <td>S/B</td>\n      <td>7777.0</td>\n    </tr>\n    <tr>\n      <th>2018-01-01</th>\n      <td>4</td>\n      <td>2018-01-01</td>\n      <td>72</td>\n      <td>00:55:00</td>\n      <td>Monday</td>\n      <td>Pape Station</td>\n      <td>Mechanical</td>\n      <td>18.0</td>\n      <td>36.0</td>\n      <td>NaN</td>\n      <td>7787.0</td>\n    </tr>\n  </tbody>\n</table>\n</div>"
     },
     "execution_count": 53,
     "metadata": {},
     "output_type": "execute_result"
    }
   ],
   "source": [
    "# Set the date colum as the index\n",
    "\n",
    "ttc_bus_df.set_index('Date', inplace = True)\n",
    "ttc_bus_df.head()"
   ],
   "metadata": {
    "collapsed": false,
    "ExecuteTime": {
     "end_time": "2023-12-06T02:49:47.268448700Z",
     "start_time": "2023-12-06T02:49:44.169073Z"
    }
   },
   "id": "a9509a9792d479e5"
  },
  {
   "cell_type": "markdown",
   "source": [
    "### Outliers"
   ],
   "metadata": {
    "collapsed": false
   },
   "id": "5c957ef5050c0c52"
  },
  {
   "cell_type": "code",
   "execution_count": 54,
   "outputs": [
    {
     "data": {
      "text/plain": "          Unnamed: 0      Min Delay        Min Gap        Vehicle  \\\ncount  108004.000000  108004.000000  108004.000000  108004.000000   \nmean    54001.500000       2.971066       4.399124    3619.806989   \nstd     31178.213574       9.874597      10.585862    2622.799270   \nmin         0.000000       0.000000       0.000000       0.000000   \n25%     27000.750000       0.000000       0.000000       0.000000   \n50%     54001.500000       0.000000       0.000000    5186.000000   \n75%     81002.250000       4.000000       8.000000    5656.000000   \nmax    108003.000000     515.000000     519.000000   69021.000000   \n\n                year          month      month_day  \ncount  108004.000000  108004.000000  108004.000000  \nmean     2020.430151       6.289684      15.862959  \nstd         1.750949       3.407509       8.824946  \nmin      2018.000000       1.000000       1.000000  \n25%      2019.000000       3.000000       8.000000  \n50%      2020.000000       6.000000      16.000000  \n75%      2022.000000       9.000000      23.000000  \nmax      2023.000000      12.000000      31.000000  ",
      "text/html": "<div>\n<style scoped>\n    .dataframe tbody tr th:only-of-type {\n        vertical-align: middle;\n    }\n\n    .dataframe tbody tr th {\n        vertical-align: top;\n    }\n\n    .dataframe thead th {\n        text-align: right;\n    }\n</style>\n<table border=\"1\" class=\"dataframe\">\n  <thead>\n    <tr style=\"text-align: right;\">\n      <th></th>\n      <th>Unnamed: 0</th>\n      <th>Min Delay</th>\n      <th>Min Gap</th>\n      <th>Vehicle</th>\n      <th>year</th>\n      <th>month</th>\n      <th>month_day</th>\n    </tr>\n  </thead>\n  <tbody>\n    <tr>\n      <th>count</th>\n      <td>108004.000000</td>\n      <td>108004.000000</td>\n      <td>108004.000000</td>\n      <td>108004.000000</td>\n      <td>108004.000000</td>\n      <td>108004.000000</td>\n      <td>108004.000000</td>\n    </tr>\n    <tr>\n      <th>mean</th>\n      <td>54001.500000</td>\n      <td>2.971066</td>\n      <td>4.399124</td>\n      <td>3619.806989</td>\n      <td>2020.430151</td>\n      <td>6.289684</td>\n      <td>15.862959</td>\n    </tr>\n    <tr>\n      <th>std</th>\n      <td>31178.213574</td>\n      <td>9.874597</td>\n      <td>10.585862</td>\n      <td>2622.799270</td>\n      <td>1.750949</td>\n      <td>3.407509</td>\n      <td>8.824946</td>\n    </tr>\n    <tr>\n      <th>min</th>\n      <td>0.000000</td>\n      <td>0.000000</td>\n      <td>0.000000</td>\n      <td>0.000000</td>\n      <td>2018.000000</td>\n      <td>1.000000</td>\n      <td>1.000000</td>\n    </tr>\n    <tr>\n      <th>25%</th>\n      <td>27000.750000</td>\n      <td>0.000000</td>\n      <td>0.000000</td>\n      <td>0.000000</td>\n      <td>2019.000000</td>\n      <td>3.000000</td>\n      <td>8.000000</td>\n    </tr>\n    <tr>\n      <th>50%</th>\n      <td>54001.500000</td>\n      <td>0.000000</td>\n      <td>0.000000</td>\n      <td>5186.000000</td>\n      <td>2020.000000</td>\n      <td>6.000000</td>\n      <td>16.000000</td>\n    </tr>\n    <tr>\n      <th>75%</th>\n      <td>81002.250000</td>\n      <td>4.000000</td>\n      <td>8.000000</td>\n      <td>5656.000000</td>\n      <td>2022.000000</td>\n      <td>9.000000</td>\n      <td>23.000000</td>\n    </tr>\n    <tr>\n      <th>max</th>\n      <td>108003.000000</td>\n      <td>515.000000</td>\n      <td>519.000000</td>\n      <td>69021.000000</td>\n      <td>2023.000000</td>\n      <td>12.000000</td>\n      <td>31.000000</td>\n    </tr>\n  </tbody>\n</table>\n</div>"
     },
     "execution_count": 54,
     "metadata": {},
     "output_type": "execute_result"
    }
   ],
   "source": [
    "ttc_subway_df.describe()"
   ],
   "metadata": {
    "collapsed": false,
    "ExecuteTime": {
     "end_time": "2023-12-06T02:49:47.268448700Z",
     "start_time": "2023-12-06T02:49:44.176493900Z"
    }
   },
   "id": "e5cd90907b4f8020"
  },
  {
   "cell_type": "code",
   "execution_count": 55,
   "outputs": [
    {
     "name": "stderr",
     "output_type": "stream",
     "text": [
      "C:\\Users\\diana\\AppData\\Local\\Temp\\ipykernel_23112\\1108744901.py:3: UserWarning: \n",
      "\n",
      "`distplot` is a deprecated function and will be removed in seaborn v0.14.0.\n",
      "\n",
      "Please adapt your code to use either `displot` (a figure-level function with\n",
      "similar flexibility) or `histplot` (an axes-level function for histograms).\n",
      "\n",
      "For a guide to updating your code to use the new functions, please see\n",
      "https://gist.github.com/mwaskom/de44147ed2974457ad6372750bbe5751\n",
      "\n",
      "  ttc_delays=sns.distplot(ttc_subway_df['Min Delay'], label='Distribution of subway delays')\n"
     ]
    },
    {
     "data": {
      "text/plain": "<Figure size 600x300 with 1 Axes>",
      "image/png": "[encoded data removed]"
     },
     "metadata": {},
     "output_type": "display_data"
    }
   ],
   "source": [
    "# Create probability density plot \n",
    "plt.figure(figsize=(6,3))\n",
    "ttc_delays=sns.distplot(ttc_subway_df['Min Delay'], label='Distribution of subway delays')\n",
    "\n",
    "# Set labels and legend\n",
    "plt.xlabel('Delays in minutes', fontsize=12)\n",
    "plt.ylabel('Probability Density', fontsize=12)\n",
    "plt.title('Distribution of subway delays')\n",
    "\n",
    "#Change tick sizes\n",
    "ttc_delays.xaxis.set_tick_params(labelsize=8)\n",
    "ttc_delays.yaxis.set_tick_params(labelsize=8)\n",
    "\n",
    "# Show the plot\n",
    "plt.show()"
   ],
   "metadata": {
    "collapsed": false,
    "ExecuteTime": {
     "end_time": "2023-12-06T02:49:47.268448700Z",
     "start_time": "2023-12-06T02:49:44.216285800Z"
    }
   },
   "id": "cc1f75a5cac4df48"
  },
  {
   "cell_type": "code",
   "execution_count": 56,
   "outputs": [
    {
     "name": "stdout",
     "output_type": "stream",
     "text": [
      "<class 'pandas.core.frame.DataFrame'>\n",
      "DatetimeIndex: 102486 entries, 2022-01-01 to 2021-12-31\n",
      "Data columns (total 13 columns):\n",
      " #   Column      Non-Null Count   Dtype \n",
      "---  ------      --------------   ----- \n",
      " 0   Unnamed: 0  102486 non-null  int64 \n",
      " 1   Time        102486 non-null  object\n",
      " 2   Day         102486 non-null  object\n",
      " 3   Station     102486 non-null  object\n",
      " 4   Code        102486 non-null  object\n",
      " 5   Min Delay   102486 non-null  int64 \n",
      " 6   Min Gap     102486 non-null  int64 \n",
      " 7   Bound       73761 non-null   object\n",
      " 8   Line        102157 non-null  object\n",
      " 9   Vehicle     102486 non-null  int64 \n",
      " 10  year        102486 non-null  int32 \n",
      " 11  month       102486 non-null  int32 \n",
      " 12  month_day   102486 non-null  int32 \n",
      "dtypes: int32(3), int64(4), object(6)\n",
      "memory usage: 9.8+ MB\n"
     ]
    }
   ],
   "source": [
    "#Remove Min Delay outliers\n",
    "# Calculate the quartiles and IQR\n",
    "Q1= ttc_subway_df['Min Delay'].quantile(0.25)\n",
    "Q3= ttc_subway_df['Min Delay'].quantile(0.75)\n",
    "IQR =Q3-Q1\n",
    "\n",
    "#Define the bounds for outlier removal\n",
    "lower_bound= Q1-1.5*IQR\n",
    "upper_bound= Q3 +1.5*IQR\n",
    "\n",
    "#Remove outliers by creating a mask\n",
    "mask= (ttc_subway_df['Min Delay']<= upper_bound)\n",
    "ttc_subway_df = ttc_subway_df[mask]\n",
    "\n",
    "# View DataFrame\n",
    "ttc_subway_df.info()"
   ],
   "metadata": {
    "collapsed": false,
    "ExecuteTime": {
     "end_time": "2023-12-06T02:49:47.268448700Z",
     "start_time": "2023-12-06T02:49:44.738642600Z"
    }
   },
   "id": "d55095e4eeb51f59"
  },
  {
   "cell_type": "markdown",
   "source": [
    "### Day of the week"
   ],
   "metadata": {
    "collapsed": false
   },
   "id": "ac7eac0df9ab13b4"
  },
  {
   "cell_type": "code",
   "execution_count": 57,
   "outputs": [
    {
     "data": {
      "text/plain": "          Unnamed: 0      Min Delay        Min Gap        Vehicle\ncount  313460.000000  307525.000000  312570.000000  286529.000000\nmean   156729.500000      22.329710      33.748024    5528.746696\nstd     90488.252028      73.698228      74.520075    3763.471128\nmin         0.000000     -54.000000       0.000000       0.000000\n25%     78364.750000       8.000000      16.000000    1648.000000\n50%    156729.500000      10.000000      20.000000    7950.000000\n75%    235094.250000      18.000000      34.000000    8583.000000\nmax    313459.000000    2030.000000    1890.000000   99035.000000",
      "text/html": "<div>\n<style scoped>\n    .dataframe tbody tr th:only-of-type {\n        vertical-align: middle;\n    }\n\n    .dataframe tbody tr th {\n        vertical-align: top;\n    }\n\n    .dataframe thead th {\n        text-align: right;\n    }\n</style>\n<table border=\"1\" class=\"dataframe\">\n  <thead>\n    <tr style=\"text-align: right;\">\n      <th></th>\n      <th>Unnamed: 0</th>\n      <th>Min Delay</th>\n      <th>Min Gap</th>\n      <th>Vehicle</th>\n    </tr>\n  </thead>\n  <tbody>\n    <tr>\n      <th>count</th>\n      <td>313460.000000</td>\n      <td>307525.000000</td>\n      <td>312570.000000</td>\n      <td>286529.000000</td>\n    </tr>\n    <tr>\n      <th>mean</th>\n      <td>156729.500000</td>\n      <td>22.329710</td>\n      <td>33.748024</td>\n      <td>5528.746696</td>\n    </tr>\n    <tr>\n      <th>std</th>\n      <td>90488.252028</td>\n      <td>73.698228</td>\n      <td>74.520075</td>\n      <td>3763.471128</td>\n    </tr>\n    <tr>\n      <th>min</th>\n      <td>0.000000</td>\n      <td>-54.000000</td>\n      <td>0.000000</td>\n      <td>0.000000</td>\n    </tr>\n    <tr>\n      <th>25%</th>\n      <td>78364.750000</td>\n      <td>8.000000</td>\n      <td>16.000000</td>\n      <td>1648.000000</td>\n    </tr>\n    <tr>\n      <th>50%</th>\n      <td>156729.500000</td>\n      <td>10.000000</td>\n      <td>20.000000</td>\n      <td>7950.000000</td>\n    </tr>\n    <tr>\n      <th>75%</th>\n      <td>235094.250000</td>\n      <td>18.000000</td>\n      <td>34.000000</td>\n      <td>8583.000000</td>\n    </tr>\n    <tr>\n      <th>max</th>\n      <td>313459.000000</td>\n      <td>2030.000000</td>\n      <td>1890.000000</td>\n      <td>99035.000000</td>\n    </tr>\n  </tbody>\n</table>\n</div>"
     },
     "execution_count": 57,
     "metadata": {},
     "output_type": "execute_result"
    }
   ],
   "source": [
    "ttc_bus_df.describe()"
   ],
   "metadata": {
    "collapsed": false,
    "ExecuteTime": {
     "end_time": "2023-12-06T02:49:47.268448700Z",
     "start_time": "2023-12-06T02:49:44.785463900Z"
    }
   },
   "id": "66413c44c801efea"
  },
  {
   "cell_type": "code",
   "execution_count": 58,
   "outputs": [
    {
     "data": {
      "text/plain": "  Report Date  Unnamed: 0  Min Delay    Min Gap      Vehicle  weekday\n0  2018-01-01        84.5  18.670588  32.241176  5563.447205        0\n1  2018-01-02       316.5  16.646259  26.044218  5897.653137        1\n2  2018-01-03       581.5  16.459574  26.463830  6172.705357        2\n3  2018-01-04       835.5  18.617647  28.599265  6277.352941        3\n4  2018-01-05      1111.5  10.978571  21.071429  5692.337079        4",
      "text/html": "<div>\n<style scoped>\n    .dataframe tbody tr th:only-of-type {\n        vertical-align: middle;\n    }\n\n    .dataframe tbody tr th {\n        vertical-align: top;\n    }\n\n    .dataframe thead th {\n        text-align: right;\n    }\n</style>\n<table border=\"1\" class=\"dataframe\">\n  <thead>\n    <tr style=\"text-align: right;\">\n      <th></th>\n      <th>Report Date</th>\n      <th>Unnamed: 0</th>\n      <th>Min Delay</th>\n      <th>Min Gap</th>\n      <th>Vehicle</th>\n      <th>weekday</th>\n    </tr>\n  </thead>\n  <tbody>\n    <tr>\n      <th>0</th>\n      <td>2018-01-01</td>\n      <td>84.5</td>\n      <td>18.670588</td>\n      <td>32.241176</td>\n      <td>5563.447205</td>\n      <td>0</td>\n    </tr>\n    <tr>\n      <th>1</th>\n      <td>2018-01-02</td>\n      <td>316.5</td>\n      <td>16.646259</td>\n      <td>26.044218</td>\n      <td>5897.653137</td>\n      <td>1</td>\n    </tr>\n    <tr>\n      <th>2</th>\n      <td>2018-01-03</td>\n      <td>581.5</td>\n      <td>16.459574</td>\n      <td>26.463830</td>\n      <td>6172.705357</td>\n      <td>2</td>\n    </tr>\n    <tr>\n      <th>3</th>\n      <td>2018-01-04</td>\n      <td>835.5</td>\n      <td>18.617647</td>\n      <td>28.599265</td>\n      <td>6277.352941</td>\n      <td>3</td>\n    </tr>\n    <tr>\n      <th>4</th>\n      <td>2018-01-05</td>\n      <td>1111.5</td>\n      <td>10.978571</td>\n      <td>21.071429</td>\n      <td>5692.337079</td>\n      <td>4</td>\n    </tr>\n  </tbody>\n</table>\n</div>"
     },
     "execution_count": 58,
     "metadata": {},
     "output_type": "execute_result"
    }
   ],
   "source": [
    "ttc_bus_daily = ttc_bus_df.groupby(\"Report Date\").mean(\"Min Delay\").reset_index()\n",
    "ttc_bus_daily[\"Report Date\"] = pd.to_datetime(ttc_bus_daily[\"Report Date\"])\n",
    "\n",
    "ttc_bus_daily[\"weekday\"] = ttc_bus_daily[\"Report Date\"].dt.weekday\n",
    "\n",
    "ttc_bus_daily.head()\n"
   ],
   "metadata": {
    "collapsed": false,
    "ExecuteTime": {
     "end_time": "2023-12-06T02:49:47.268448700Z",
     "start_time": "2023-12-06T02:49:44.874996900Z"
    }
   },
   "id": "67a0db86a088c9da"
  },
  {
   "cell_type": "code",
   "execution_count": 59,
   "outputs": [
    {
     "data": {
      "text/plain": "   weekday     Unnamed: 0  Min Delay    Min Gap      Vehicle\n0        0  166288.230000  22.107403  33.600986  5563.643189\n1        1  166445.601667  21.023552  32.369878  5564.669328\n2        2  166638.734114  21.092614  32.339697  5551.023210\n3        3  166810.379599  20.231165  31.294528  5548.385030\n4        4  166981.836120  21.682341  32.851267  5507.932264\n5        5  167127.627090  25.465418  37.876898  5378.823451\n6        6  166720.158863  24.738104  37.644840  5430.473261",
      "text/html": "<div>\n<style scoped>\n    .dataframe tbody tr th:only-of-type {\n        vertical-align: middle;\n    }\n\n    .dataframe tbody tr th {\n        vertical-align: top;\n    }\n\n    .dataframe thead th {\n        text-align: right;\n    }\n</style>\n<table border=\"1\" class=\"dataframe\">\n  <thead>\n    <tr style=\"text-align: right;\">\n      <th></th>\n      <th>weekday</th>\n      <th>Unnamed: 0</th>\n      <th>Min Delay</th>\n      <th>Min Gap</th>\n      <th>Vehicle</th>\n    </tr>\n  </thead>\n  <tbody>\n    <tr>\n      <th>0</th>\n      <td>0</td>\n      <td>166288.230000</td>\n      <td>22.107403</td>\n      <td>33.600986</td>\n      <td>5563.643189</td>\n    </tr>\n    <tr>\n      <th>1</th>\n      <td>1</td>\n      <td>166445.601667</td>\n      <td>21.023552</td>\n      <td>32.369878</td>\n      <td>5564.669328</td>\n    </tr>\n    <tr>\n      <th>2</th>\n      <td>2</td>\n      <td>166638.734114</td>\n      <td>21.092614</td>\n      <td>32.339697</td>\n      <td>5551.023210</td>\n    </tr>\n    <tr>\n      <th>3</th>\n      <td>3</td>\n      <td>166810.379599</td>\n      <td>20.231165</td>\n      <td>31.294528</td>\n      <td>5548.385030</td>\n    </tr>\n    <tr>\n      <th>4</th>\n      <td>4</td>\n      <td>166981.836120</td>\n      <td>21.682341</td>\n      <td>32.851267</td>\n      <td>5507.932264</td>\n    </tr>\n    <tr>\n      <th>5</th>\n      <td>5</td>\n      <td>167127.627090</td>\n      <td>25.465418</td>\n      <td>37.876898</td>\n      <td>5378.823451</td>\n    </tr>\n    <tr>\n      <th>6</th>\n      <td>6</td>\n      <td>166720.158863</td>\n      <td>24.738104</td>\n      <td>37.644840</td>\n      <td>5430.473261</td>\n    </tr>\n  </tbody>\n</table>\n</div>"
     },
     "execution_count": 59,
     "metadata": {},
     "output_type": "execute_result"
    }
   ],
   "source": [
    "ttc_bus_daily.groupby(\"weekday\").mean(\"Min Delay\").reset_index()\n"
   ],
   "metadata": {
    "collapsed": false,
    "ExecuteTime": {
     "end_time": "2023-12-06T02:49:47.268448700Z",
     "start_time": "2023-12-06T02:49:44.922213300Z"
    }
   },
   "id": "141de0cd3f6d26e9"
  },
  {
   "cell_type": "code",
   "execution_count": 60,
   "outputs": [
    {
     "data": {
      "text/plain": "  Report Date  Unnamed: 0  Min Delay    Min Gap      Vehicle  weekday\n0  2018-01-01        84.5  18.670588  32.241176  5563.447205        0\n1  2018-01-02       316.5  16.646259  26.044218  5897.653137        1\n2  2018-01-03       581.5  16.459574  26.463830  6172.705357        2\n3  2018-01-04       835.5  18.617647  28.599265  6277.352941        3\n4  2018-01-05      1111.5  10.978571  21.071429  5692.337079        4",
      "text/html": "<div>\n<style scoped>\n    .dataframe tbody tr th:only-of-type {\n        vertical-align: middle;\n    }\n\n    .dataframe tbody tr th {\n        vertical-align: top;\n    }\n\n    .dataframe thead th {\n        text-align: right;\n    }\n</style>\n<table border=\"1\" class=\"dataframe\">\n  <thead>\n    <tr style=\"text-align: right;\">\n      <th></th>\n      <th>Report Date</th>\n      <th>Unnamed: 0</th>\n      <th>Min Delay</th>\n      <th>Min Gap</th>\n      <th>Vehicle</th>\n      <th>weekday</th>\n    </tr>\n  </thead>\n  <tbody>\n    <tr>\n      <th>0</th>\n      <td>2018-01-01</td>\n      <td>84.5</td>\n      <td>18.670588</td>\n      <td>32.241176</td>\n      <td>5563.447205</td>\n      <td>0</td>\n    </tr>\n    <tr>\n      <th>1</th>\n      <td>2018-01-02</td>\n      <td>316.5</td>\n      <td>16.646259</td>\n      <td>26.044218</td>\n      <td>5897.653137</td>\n      <td>1</td>\n    </tr>\n    <tr>\n      <th>2</th>\n      <td>2018-01-03</td>\n      <td>581.5</td>\n      <td>16.459574</td>\n      <td>26.463830</td>\n      <td>6172.705357</td>\n      <td>2</td>\n    </tr>\n    <tr>\n      <th>3</th>\n      <td>2018-01-04</td>\n      <td>835.5</td>\n      <td>18.617647</td>\n      <td>28.599265</td>\n      <td>6277.352941</td>\n      <td>3</td>\n    </tr>\n    <tr>\n      <th>4</th>\n      <td>2018-01-05</td>\n      <td>1111.5</td>\n      <td>10.978571</td>\n      <td>21.071429</td>\n      <td>5692.337079</td>\n      <td>4</td>\n    </tr>\n  </tbody>\n</table>\n</div>"
     },
     "execution_count": 60,
     "metadata": {},
     "output_type": "execute_result"
    }
   ],
   "source": [
    "\n",
    "ttc_bus_daily['weekday'] = ttc_bus_daily['weekday'].replace({\n",
    "        \"0\": 'Monday', \"1\": 'Tuesday', \"2\": 'Wednesday', \"3\": 'Thursday', \"4\": 'Friday', \"5\": 'Saturday', \"6\":'Sunday'})\n",
    "\n",
    "ttc_bus_daily.head()"
   ],
   "metadata": {
    "collapsed": false,
    "ExecuteTime": {
     "end_time": "2023-12-06T02:49:47.268448700Z",
     "start_time": "2023-12-06T02:49:44.932810400Z"
    }
   },
   "id": "8d689b33346fdcc9"
  },
  {
   "cell_type": "code",
   "execution_count": 61,
   "outputs": [
    {
     "data": {
      "text/plain": "<Figure size 1500x600 with 0 Axes>"
     },
     "execution_count": 61,
     "metadata": {},
     "output_type": "execute_result"
    },
    {
     "data": {
      "text/plain": "<Figure size 640x480 with 1 Axes>",
      "image/png": "[encoded data removed]"
     },
     "metadata": {},
     "output_type": "display_data"
    },
    {
     "data": {
      "text/plain": "<Figure size 1500x600 with 0 Axes>"
     },
     "metadata": {},
     "output_type": "display_data"
    }
   ],
   "source": [
    "ax = sns.barplot(data=ttc_bus_daily, x = \"weekday\", y = \"Min Delay\", color=\"red\", )\n",
    "plt.title(\"Average Delay by Day of the Week\")\n",
    "plt.xlabel(\"Day of the Week\")\n",
    "plt.ylabel(\"Average Delay (minutes)\")\n",
    "plt.figure(figsize=(15,6))\n"
   ],
   "metadata": {
    "collapsed": false,
    "ExecuteTime": {
     "end_time": "2023-12-06T02:49:47.268448700Z",
     "start_time": "2023-12-06T02:49:44.945574300Z"
    }
   },
   "id": "97d808bfb71f1e60"
  },
  {
   "cell_type": "code",
   "execution_count": 62,
   "outputs": [
    {
     "data": {
      "text/plain": "            Unnamed: 0 Report Date Route      Time     Day  \\\nDate                                                         \n2018-01-01           0  2018-01-01   165  00:17:00  Monday   \n2018-01-01           1  2018-01-01   706  00:20:00  Monday   \n2018-01-01           2  2018-01-01    28  00:30:00  Monday   \n2018-01-01           3  2018-01-01    12  00:55:00  Monday   \n2018-01-01           4  2018-01-01    72  00:55:00  Monday   \n\n                      Location            Incident  Min Delay  Min Gap  \\\nDate                                                                     \n2018-01-01          Wilson Stn          Mechanical       10.0     20.0   \n2018-01-01   Birchmount Garage  Utilized Off Route        1.0      1.0   \n2018-01-01  Davisville Station       Investigation       30.0     60.0   \n2018-01-01     Kennedy Station          Mechanical       22.0     44.0   \n2018-01-01        Pape Station          Mechanical       18.0     36.0   \n\n           Direction  Vehicle  \nDate                           \n2018-01-01       W/B   1291.0  \n2018-01-01       S/B   8123.0  \n2018-01-01       S/B   8306.0  \n2018-01-01       S/B   7777.0  \n2018-01-01       NaN   7787.0  ",
      "text/html": "<div>\n<style scoped>\n    .dataframe tbody tr th:only-of-type {\n        vertical-align: middle;\n    }\n\n    .dataframe tbody tr th {\n        vertical-align: top;\n    }\n\n    .dataframe thead th {\n        text-align: right;\n    }\n</style>\n<table border=\"1\" class=\"dataframe\">\n  <thead>\n    <tr style=\"text-align: right;\">\n      <th></th>\n      <th>Unnamed: 0</th>\n      <th>Report Date</th>\n      <th>Route</th>\n      <th>Time</th>\n      <th>Day</th>\n      <th>Location</th>\n      <th>Incident</th>\n      <th>Min Delay</th>\n      <th>Min Gap</th>\n      <th>Direction</th>\n      <th>Vehicle</th>\n    </tr>\n    <tr>\n      <th>Date</th>\n      <th></th>\n      <th></th>\n      <th></th>\n      <th></th>\n      <th></th>\n      <th></th>\n      <th></th>\n      <th></th>\n      <th></th>\n      <th></th>\n      <th></th>\n    </tr>\n  </thead>\n  <tbody>\n    <tr>\n      <th>2018-01-01</th>\n      <td>0</td>\n      <td>2018-01-01</td>\n      <td>165</td>\n      <td>00:17:00</td>\n      <td>Monday</td>\n      <td>Wilson Stn</td>\n      <td>Mechanical</td>\n      <td>10.0</td>\n      <td>20.0</td>\n      <td>W/B</td>\n      <td>1291.0</td>\n    </tr>\n    <tr>\n      <th>2018-01-01</th>\n      <td>1</td>\n      <td>2018-01-01</td>\n      <td>706</td>\n      <td>00:20:00</td>\n      <td>Monday</td>\n      <td>Birchmount Garage</td>\n      <td>Utilized Off Route</td>\n      <td>1.0</td>\n      <td>1.0</td>\n      <td>S/B</td>\n      <td>8123.0</td>\n    </tr>\n    <tr>\n      <th>2018-01-01</th>\n      <td>2</td>\n      <td>2018-01-01</td>\n      <td>28</td>\n      <td>00:30:00</td>\n      <td>Monday</td>\n      <td>Davisville Station</td>\n      <td>Investigation</td>\n      <td>30.0</td>\n      <td>60.0</td>\n      <td>S/B</td>\n      <td>8306.0</td>\n    </tr>\n    <tr>\n      <th>2018-01-01</th>\n      <td>3</td>\n      <td>2018-01-01</td>\n      <td>12</td>\n      <td>00:55:00</td>\n      <td>Monday</td>\n      <td>Kennedy Station</td>\n      <td>Mechanical</td>\n      <td>22.0</td>\n      <td>44.0</td>\n      <td>S/B</td>\n      <td>7777.0</td>\n    </tr>\n    <tr>\n      <th>2018-01-01</th>\n      <td>4</td>\n      <td>2018-01-01</td>\n      <td>72</td>\n      <td>00:55:00</td>\n      <td>Monday</td>\n      <td>Pape Station</td>\n      <td>Mechanical</td>\n      <td>18.0</td>\n      <td>36.0</td>\n      <td>NaN</td>\n      <td>7787.0</td>\n    </tr>\n  </tbody>\n</table>\n</div>"
     },
     "execution_count": 62,
     "metadata": {},
     "output_type": "execute_result"
    }
   ],
   "source": [
    "ttc_bus_df.head()"
   ],
   "metadata": {
    "collapsed": false,
    "ExecuteTime": {
     "end_time": "2023-12-06T02:49:47.268448700Z",
     "start_time": "2023-12-06T02:49:45.348964100Z"
    }
   },
   "id": "acee4d569a107d1b"
  },
  {
   "cell_type": "markdown",
   "source": [
    "### Reliability calcs"
   ],
   "metadata": {
    "collapsed": false
   },
   "id": "796f3f8d3eb41425"
  },
  {
   "cell_type": "code",
   "execution_count": 63,
   "outputs": [],
   "source": [
    "TTC_ridesperday_dict = {\n",
    "    \"0\": math.ceil((13)*60/4.5 + (3+4)*60/4.5)*4,\n",
    "    \"1\": math.ceil((13)*60/4.5 + (3+4)*60/4.5)*4,\n",
    "    \"2\": math.ceil((13)*60/4.5 + (3+4)*60/4.5)*4,\n",
    "    \"3\": math.ceil((13)*60/4.5 + (3+4)*60/4.5)*4,\n",
    "    \"4\": math.ceil((13)*60/4.5 + (3+4)*60/4.5)*4,\n",
    "    \"5\": math.ceil(20*60/4.5)*4,\n",
    "    \"6\": math.ceil(18*60/8)*4\n",
    "}\n",
    "\n"
   ],
   "metadata": {
    "collapsed": false,
    "ExecuteTime": {
     "end_time": "2023-12-06T02:49:47.268448700Z",
     "start_time": "2023-12-06T02:49:45.361150300Z"
    }
   },
   "id": "8c374ec3d3e53aa1"
  },
  {
   "cell_type": "code",
   "execution_count": 64,
   "outputs": [
    {
     "data": {
      "text/plain": "        Date  Unnamed: 0   Time       Day                 Station   Code  \\\n0 2022-01-01           0  15:59  Saturday   LAWRENCE EAST STATION   SRDP   \n1 2022-01-01           1  02:23  Saturday      SPADINA BD STATION   MUIS   \n2 2022-01-01           2  22:00  Saturday  KENNEDY SRT STATION TO    MRO   \n3 2022-01-01           3  02:28  Saturday      VAUGHAN MC STATION   MUIS   \n4 2022-01-01           4  02:34  Saturday        EGLINTON STATION  MUATC   \n\n   Min Delay  Min Gap Bound Line  Vehicle  year  month  month_day  \n0          0        0     N  SRT     3023  2022      1          1  \n1          0        0   NaN   BD        0  2022      1          1  \n2          0        0   NaN  SRT        0  2022      1          1  \n3          0        0   NaN   YU        0  2022      1          1  \n4          0        0     S   YU     5981  2022      1          1  ",
      "text/html": "<div>\n<style scoped>\n    .dataframe tbody tr th:only-of-type {\n        vertical-align: middle;\n    }\n\n    .dataframe tbody tr th {\n        vertical-align: top;\n    }\n\n    .dataframe thead th {\n        text-align: right;\n    }\n</style>\n<table border=\"1\" class=\"dataframe\">\n  <thead>\n    <tr style=\"text-align: right;\">\n      <th></th>\n      <th>Date</th>\n      <th>Unnamed: 0</th>\n      <th>Time</th>\n      <th>Day</th>\n      <th>Station</th>\n      <th>Code</th>\n      <th>Min Delay</th>\n      <th>Min Gap</th>\n      <th>Bound</th>\n      <th>Line</th>\n      <th>Vehicle</th>\n      <th>year</th>\n      <th>month</th>\n      <th>month_day</th>\n    </tr>\n  </thead>\n  <tbody>\n    <tr>\n      <th>0</th>\n      <td>2022-01-01</td>\n      <td>0</td>\n      <td>15:59</td>\n      <td>Saturday</td>\n      <td>LAWRENCE EAST STATION</td>\n      <td>SRDP</td>\n      <td>0</td>\n      <td>0</td>\n      <td>N</td>\n      <td>SRT</td>\n      <td>3023</td>\n      <td>2022</td>\n      <td>1</td>\n      <td>1</td>\n    </tr>\n    <tr>\n      <th>1</th>\n      <td>2022-01-01</td>\n      <td>1</td>\n      <td>02:23</td>\n      <td>Saturday</td>\n      <td>SPADINA BD STATION</td>\n      <td>MUIS</td>\n      <td>0</td>\n      <td>0</td>\n      <td>NaN</td>\n      <td>BD</td>\n      <td>0</td>\n      <td>2022</td>\n      <td>1</td>\n      <td>1</td>\n    </tr>\n    <tr>\n      <th>2</th>\n      <td>2022-01-01</td>\n      <td>2</td>\n      <td>22:00</td>\n      <td>Saturday</td>\n      <td>KENNEDY SRT STATION TO</td>\n      <td>MRO</td>\n      <td>0</td>\n      <td>0</td>\n      <td>NaN</td>\n      <td>SRT</td>\n      <td>0</td>\n      <td>2022</td>\n      <td>1</td>\n      <td>1</td>\n    </tr>\n    <tr>\n      <th>3</th>\n      <td>2022-01-01</td>\n      <td>3</td>\n      <td>02:28</td>\n      <td>Saturday</td>\n      <td>VAUGHAN MC STATION</td>\n      <td>MUIS</td>\n      <td>0</td>\n      <td>0</td>\n      <td>NaN</td>\n      <td>YU</td>\n      <td>0</td>\n      <td>2022</td>\n      <td>1</td>\n      <td>1</td>\n    </tr>\n    <tr>\n      <th>4</th>\n      <td>2022-01-01</td>\n      <td>4</td>\n      <td>02:34</td>\n      <td>Saturday</td>\n      <td>EGLINTON STATION</td>\n      <td>MUATC</td>\n      <td>0</td>\n      <td>0</td>\n      <td>S</td>\n      <td>YU</td>\n      <td>5981</td>\n      <td>2022</td>\n      <td>1</td>\n      <td>1</td>\n    </tr>\n  </tbody>\n</table>\n</div>"
     },
     "execution_count": 64,
     "metadata": {},
     "output_type": "execute_result"
    }
   ],
   "source": [
    "ttc_subway_df_temp = ttc_subway_df.reset_index()\n",
    "\n",
    "ttc_subway_df_temp.head()"
   ],
   "metadata": {
    "collapsed": false,
    "ExecuteTime": {
     "end_time": "2023-12-06T02:49:47.268448700Z",
     "start_time": "2023-12-06T02:49:45.362158700Z"
    }
   },
   "id": "57139050a3c65744"
  },
  {
   "cell_type": "code",
   "execution_count": 65,
   "outputs": [],
   "source": [
    "ttc_subway_df_temp[\"day\"] = ttc_subway_df_temp[\"Date\"].dt.date\n",
    "ttc_subway_df_temp[\"weekday\"] = ttc_subway_df_temp[\"Date\"].dt.weekday\n",
    "\n",
    "ttc_subway_df_daily = ttc_subway_df_temp.groupby([\"day\", \"weekday\"]).count().reset_index()"
   ],
   "metadata": {
    "collapsed": false,
    "ExecuteTime": {
     "end_time": "2023-12-06T02:49:47.268448700Z",
     "start_time": "2023-12-06T02:49:45.393877100Z"
    }
   },
   "id": "eff407355824a5c1"
  },
  {
   "cell_type": "code",
   "execution_count": 66,
   "outputs": [
    {
     "data": {
      "text/plain": "             day  weekday  Date  Unnamed: 0  Time  Day  Station  Code  \\\n0     2018-01-01        0    56          56    56   56       56    56   \n1     2018-01-02        1    72          72    72   72       72    72   \n2     2018-01-03        2    64          64    64   64       64    64   \n3     2018-01-04        3    60          60    60   60       60    60   \n4     2018-01-05        4    76          76    76   76       76    76   \n...          ...      ...   ...         ...   ...  ...      ...   ...   \n2094  2023-09-26        1    63          63    63   63       63    63   \n2095  2023-09-27        2    73          73    73   73       73    73   \n2096  2023-09-28        3    57          57    57   57       57    57   \n2097  2023-09-29        4    52          52    52   52       52    52   \n2098  2023-09-30        5    62          62    62   62       62    62   \n\n      Min Delay  Min Gap  Bound  Line  Vehicle  year  month  month_day  \n0            56       56     40    56       56    56     56         56  \n1            72       72     56    71       72    72     72         72  \n2            64       64     56    64       64    64     64         64  \n3            60       60     42    60       60    60     60         60  \n4            76       76     64    76       76    76     76         76  \n...         ...      ...    ...   ...      ...   ...    ...        ...  \n2094         63       63     37    63       63    63     63         63  \n2095         73       73     55    73       73    73     73         73  \n2096         57       57     35    57       57    57     57         57  \n2097         52       52     34    52       52    52     52         52  \n2098         62       62     37    62       62    62     62         62  \n\n[2099 rows x 16 columns]",
      "text/html": "<div>\n<style scoped>\n    .dataframe tbody tr th:only-of-type {\n        vertical-align: middle;\n    }\n\n    .dataframe tbody tr th {\n        vertical-align: top;\n    }\n\n    .dataframe thead th {\n        text-align: right;\n    }\n</style>\n<table border=\"1\" class=\"dataframe\">\n  <thead>\n    <tr style=\"text-align: right;\">\n      <th></th>\n      <th>day</th>\n      <th>weekday</th>\n      <th>Date</th>\n      <th>Unnamed: 0</th>\n      <th>Time</th>\n      <th>Day</th>\n      <th>Station</th>\n      <th>Code</th>\n      <th>Min Delay</th>\n      <th>Min Gap</th>\n      <th>Bound</th>\n      <th>Line</th>\n      <th>Vehicle</th>\n      <th>year</th>\n      <th>month</th>\n      <th>month_day</th>\n    </tr>\n  </thead>\n  <tbody>\n    <tr>\n      <th>0</th>\n      <td>2018-01-01</td>\n      <td>0</td>\n      <td>56</td>\n      <td>56</td>\n      <td>56</td>\n      <td>56</td>\n      <td>56</td>\n      <td>56</td>\n      <td>56</td>\n      <td>56</td>\n      <td>40</td>\n      <td>56</td>\n      <td>56</td>\n      <td>56</td>\n      <td>56</td>\n      <td>56</td>\n    </tr>\n    <tr>\n      <th>1</th>\n      <td>2018-01-02</td>\n      <td>1</td>\n      <td>72</td>\n      <td>72</td>\n      <td>72</td>\n      <td>72</td>\n      <td>72</td>\n      <td>72</td>\n      <td>72</td>\n      <td>72</td>\n      <td>56</td>\n      <td>71</td>\n      <td>72</td>\n      <td>72</td>\n      <td>72</td>\n      <td>72</td>\n    </tr>\n    <tr>\n      <th>2</th>\n      <td>2018-01-03</td>\n      <td>2</td>\n      <td>64</td>\n      <td>64</td>\n      <td>64</td>\n      <td>64</td>\n      <td>64</td>\n      <td>64</td>\n      <td>64</td>\n      <td>64</td>\n      <td>56</td>\n      <td>64</td>\n      <td>64</td>\n      <td>64</td>\n      <td>64</td>\n      <td>64</td>\n    </tr>\n    <tr>\n      <th>3</th>\n      <td>2018-01-04</td>\n      <td>3</td>\n      <td>60</td>\n      <td>60</td>\n      <td>60</td>\n      <td>60</td>\n      <td>60</td>\n      <td>60</td>\n      <td>60</td>\n      <td>60</td>\n      <td>42</td>\n      <td>60</td>\n      <td>60</td>\n      <td>60</td>\n      <td>60</td>\n      <td>60</td>\n    </tr>\n    <tr>\n      <th>4</th>\n      <td>2018-01-05</td>\n      <td>4</td>\n      <td>76</td>\n      <td>76</td>\n      <td>76</td>\n      <td>76</td>\n      <td>76</td>\n      <td>76</td>\n      <td>76</td>\n      <td>76</td>\n      <td>64</td>\n      <td>76</td>\n      <td>76</td>\n      <td>76</td>\n      <td>76</td>\n      <td>76</td>\n    </tr>\n    <tr>\n      <th>...</th>\n      <td>...</td>\n      <td>...</td>\n      <td>...</td>\n      <td>...</td>\n      <td>...</td>\n      <td>...</td>\n      <td>...</td>\n      <td>...</td>\n      <td>...</td>\n      <td>...</td>\n      <td>...</td>\n      <td>...</td>\n      <td>...</td>\n      <td>...</td>\n      <td>...</td>\n      <td>...</td>\n    </tr>\n    <tr>\n      <th>2094</th>\n      <td>2023-09-26</td>\n      <td>1</td>\n      <td>63</td>\n      <td>63</td>\n      <td>63</td>\n      <td>63</td>\n      <td>63</td>\n      <td>63</td>\n      <td>63</td>\n      <td>63</td>\n      <td>37</td>\n      <td>63</td>\n      <td>63</td>\n      <td>63</td>\n      <td>63</td>\n      <td>63</td>\n    </tr>\n    <tr>\n      <th>2095</th>\n      <td>2023-09-27</td>\n      <td>2</td>\n      <td>73</td>\n      <td>73</td>\n      <td>73</td>\n      <td>73</td>\n      <td>73</td>\n      <td>73</td>\n      <td>73</td>\n      <td>73</td>\n      <td>55</td>\n      <td>73</td>\n      <td>73</td>\n      <td>73</td>\n      <td>73</td>\n      <td>73</td>\n    </tr>\n    <tr>\n      <th>2096</th>\n      <td>2023-09-28</td>\n      <td>3</td>\n      <td>57</td>\n      <td>57</td>\n      <td>57</td>\n      <td>57</td>\n      <td>57</td>\n      <td>57</td>\n      <td>57</td>\n      <td>57</td>\n      <td>35</td>\n      <td>57</td>\n      <td>57</td>\n      <td>57</td>\n      <td>57</td>\n      <td>57</td>\n    </tr>\n    <tr>\n      <th>2097</th>\n      <td>2023-09-29</td>\n      <td>4</td>\n      <td>52</td>\n      <td>52</td>\n      <td>52</td>\n      <td>52</td>\n      <td>52</td>\n      <td>52</td>\n      <td>52</td>\n      <td>52</td>\n      <td>34</td>\n      <td>52</td>\n      <td>52</td>\n      <td>52</td>\n      <td>52</td>\n      <td>52</td>\n    </tr>\n    <tr>\n      <th>2098</th>\n      <td>2023-09-30</td>\n      <td>5</td>\n      <td>62</td>\n      <td>62</td>\n      <td>62</td>\n      <td>62</td>\n      <td>62</td>\n      <td>62</td>\n      <td>62</td>\n      <td>62</td>\n      <td>37</td>\n      <td>62</td>\n      <td>62</td>\n      <td>62</td>\n      <td>62</td>\n      <td>62</td>\n    </tr>\n  </tbody>\n</table>\n<p>2099 rows × 16 columns</p>\n</div>"
     },
     "execution_count": 66,
     "metadata": {},
     "output_type": "execute_result"
    }
   ],
   "source": [
    "ttc_subway_df_daily\n"
   ],
   "metadata": {
    "collapsed": false,
    "ExecuteTime": {
     "end_time": "2023-12-06T02:49:47.268448700Z",
     "start_time": "2023-12-06T02:49:45.472680500Z"
    }
   },
   "id": "19503f077e57f35f"
  },
  {
   "cell_type": "code",
   "execution_count": 67,
   "outputs": [],
   "source": [
    "def define_daily_rides_TTC(row_temp):\n",
    "    day = str(row_temp[\"weekday\"])\n",
    "    return TTC_ridesperday_dict.get(day)\n",
    "    "
   ],
   "metadata": {
    "collapsed": false,
    "ExecuteTime": {
     "end_time": "2023-12-06T02:49:47.268448700Z",
     "start_time": "2023-12-06T02:49:45.492266800Z"
    }
   },
   "id": "329857f922ccd77b"
  },
  {
   "cell_type": "code",
   "execution_count": 68,
   "outputs": [],
   "source": [
    "ttc_subway_df_daily[\"total_daily_rides\"] = ttc_subway_df_daily.apply(define_daily_rides_TTC, axis=1)"
   ],
   "metadata": {
    "collapsed": false,
    "ExecuteTime": {
     "end_time": "2023-12-06T02:49:47.268448700Z",
     "start_time": "2023-12-06T02:49:45.492772200Z"
    }
   },
   "id": "642e7a9b67bf721b"
  },
  {
   "cell_type": "code",
   "execution_count": 69,
   "outputs": [
    {
     "data": {
      "text/plain": "             day  weekday  Date  Unnamed: 0  Time  Day  Station  Code  \\\n0     2018-01-01        0    56          56    56   56       56    56   \n1     2018-01-02        1    72          72    72   72       72    72   \n2     2018-01-03        2    64          64    64   64       64    64   \n3     2018-01-04        3    60          60    60   60       60    60   \n4     2018-01-05        4    76          76    76   76       76    76   \n...          ...      ...   ...         ...   ...  ...      ...   ...   \n2094  2023-09-26        1    63          63    63   63       63    63   \n2095  2023-09-27        2    73          73    73   73       73    73   \n2096  2023-09-28        3    57          57    57   57       57    57   \n2097  2023-09-29        4    52          52    52   52       52    52   \n2098  2023-09-30        5    62          62    62   62       62    62   \n\n      Min Delay  Min Gap  Bound  Line  Vehicle  year  month  month_day  \\\n0            56       56     40    56       56    56     56         56   \n1            72       72     56    71       72    72     72         72   \n2            64       64     56    64       64    64     64         64   \n3            60       60     42    60       60    60     60         60   \n4            76       76     64    76       76    76     76         76   \n...         ...      ...    ...   ...      ...   ...    ...        ...   \n2094         63       63     37    63       63    63     63         63   \n2095         73       73     55    73       73    73     73         73   \n2096         57       57     35    57       57    57     57         57   \n2097         52       52     34    52       52    52     52         52   \n2098         62       62     37    62       62    62     62         62   \n\n      total_daily_rides  \n0                  1068  \n1                  1068  \n2                  1068  \n3                  1068  \n4                  1068  \n...                 ...  \n2094               1068  \n2095               1068  \n2096               1068  \n2097               1068  \n2098               1068  \n\n[2099 rows x 17 columns]",
      "text/html": "<div>\n<style scoped>\n    .dataframe tbody tr th:only-of-type {\n        vertical-align: middle;\n    }\n\n    .dataframe tbody tr th {\n        vertical-align: top;\n    }\n\n    .dataframe thead th {\n        text-align: right;\n    }\n</style>\n<table border=\"1\" class=\"dataframe\">\n  <thead>\n    <tr style=\"text-align: right;\">\n      <th></th>\n      <th>day</th>\n      <th>weekday</th>\n      <th>Date</th>\n      <th>Unnamed: 0</th>\n      <th>Time</th>\n      <th>Day</th>\n      <th>Station</th>\n      <th>Code</th>\n      <th>Min Delay</th>\n      <th>Min Gap</th>\n      <th>Bound</th>\n      <th>Line</th>\n      <th>Vehicle</th>\n      <th>year</th>\n      <th>month</th>\n      <th>month_day</th>\n      <th>total_daily_rides</th>\n    </tr>\n  </thead>\n  <tbody>\n    <tr>\n      <th>0</th>\n      <td>2018-01-01</td>\n      <td>0</td>\n      <td>56</td>\n      <td>56</td>\n      <td>56</td>\n      <td>56</td>\n      <td>56</td>\n      <td>56</td>\n      <td>56</td>\n      <td>56</td>\n      <td>40</td>\n      <td>56</td>\n      <td>56</td>\n      <td>56</td>\n      <td>56</td>\n      <td>56</td>\n      <td>1068</td>\n    </tr>\n    <tr>\n      <th>1</th>\n      <td>2018-01-02</td>\n      <td>1</td>\n      <td>72</td>\n      <td>72</td>\n      <td>72</td>\n      <td>72</td>\n      <td>72</td>\n      <td>72</td>\n      <td>72</td>\n      <td>72</td>\n      <td>56</td>\n      <td>71</td>\n      <td>72</td>\n      <td>72</td>\n      <td>72</td>\n      <td>72</td>\n      <td>1068</td>\n    </tr>\n    <tr>\n      <th>2</th>\n      <td>2018-01-03</td>\n      <td>2</td>\n      <td>64</td>\n      <td>64</td>\n      <td>64</td>\n      <td>64</td>\n      <td>64</td>\n      <td>64</td>\n      <td>64</td>\n      <td>64</td>\n      <td>56</td>\n      <td>64</td>\n      <td>64</td>\n      <td>64</td>\n      <td>64</td>\n      <td>64</td>\n      <td>1068</td>\n    </tr>\n    <tr>\n      <th>3</th>\n      <td>2018-01-04</td>\n      <td>3</td>\n      <td>60</td>\n      <td>60</td>\n      <td>60</td>\n      <td>60</td>\n      <td>60</td>\n      <td>60</td>\n      <td>60</td>\n      <td>60</td>\n      <td>42</td>\n      <td>60</td>\n      <td>60</td>\n      <td>60</td>\n      <td>60</td>\n      <td>60</td>\n      <td>1068</td>\n    </tr>\n    <tr>\n      <th>4</th>\n      <td>2018-01-05</td>\n      <td>4</td>\n      <td>76</td>\n      <td>76</td>\n      <td>76</td>\n      <td>76</td>\n      <td>76</td>\n      <td>76</td>\n      <td>76</td>\n      <td>76</td>\n      <td>64</td>\n      <td>76</td>\n      <td>76</td>\n      <td>76</td>\n      <td>76</td>\n      <td>76</td>\n      <td>1068</td>\n    </tr>\n    <tr>\n      <th>...</th>\n      <td>...</td>\n      <td>...</td>\n      <td>...</td>\n      <td>...</td>\n      <td>...</td>\n      <td>...</td>\n      <td>...</td>\n      <td>...</td>\n      <td>...</td>\n      <td>...</td>\n      <td>...</td>\n      <td>...</td>\n      <td>...</td>\n      <td>...</td>\n      <td>...</td>\n      <td>...</td>\n      <td>...</td>\n    </tr>\n    <tr>\n      <th>2094</th>\n      <td>2023-09-26</td>\n      <td>1</td>\n      <td>63</td>\n      <td>63</td>\n      <td>63</td>\n      <td>63</td>\n      <td>63</td>\n      <td>63</td>\n      <td>63</td>\n      <td>63</td>\n      <td>37</td>\n      <td>63</td>\n      <td>63</td>\n      <td>63</td>\n      <td>63</td>\n      <td>63</td>\n      <td>1068</td>\n    </tr>\n    <tr>\n      <th>2095</th>\n      <td>2023-09-27</td>\n      <td>2</td>\n      <td>73</td>\n      <td>73</td>\n      <td>73</td>\n      <td>73</td>\n      <td>73</td>\n      <td>73</td>\n      <td>73</td>\n      <td>73</td>\n      <td>55</td>\n      <td>73</td>\n      <td>73</td>\n      <td>73</td>\n      <td>73</td>\n      <td>73</td>\n      <td>1068</td>\n    </tr>\n    <tr>\n      <th>2096</th>\n      <td>2023-09-28</td>\n      <td>3</td>\n      <td>57</td>\n      <td>57</td>\n      <td>57</td>\n      <td>57</td>\n      <td>57</td>\n      <td>57</td>\n      <td>57</td>\n      <td>57</td>\n      <td>35</td>\n      <td>57</td>\n      <td>57</td>\n      <td>57</td>\n      <td>57</td>\n      <td>57</td>\n      <td>1068</td>\n    </tr>\n    <tr>\n      <th>2097</th>\n      <td>2023-09-29</td>\n      <td>4</td>\n      <td>52</td>\n      <td>52</td>\n      <td>52</td>\n      <td>52</td>\n      <td>52</td>\n      <td>52</td>\n      <td>52</td>\n      <td>52</td>\n      <td>34</td>\n      <td>52</td>\n      <td>52</td>\n      <td>52</td>\n      <td>52</td>\n      <td>52</td>\n      <td>1068</td>\n    </tr>\n    <tr>\n      <th>2098</th>\n      <td>2023-09-30</td>\n      <td>5</td>\n      <td>62</td>\n      <td>62</td>\n      <td>62</td>\n      <td>62</td>\n      <td>62</td>\n      <td>62</td>\n      <td>62</td>\n      <td>62</td>\n      <td>37</td>\n      <td>62</td>\n      <td>62</td>\n      <td>62</td>\n      <td>62</td>\n      <td>62</td>\n      <td>1068</td>\n    </tr>\n  </tbody>\n</table>\n<p>2099 rows × 17 columns</p>\n</div>"
     },
     "execution_count": 69,
     "metadata": {},
     "output_type": "execute_result"
    }
   ],
   "source": [
    "ttc_subway_df_daily"
   ],
   "metadata": {
    "collapsed": false,
    "ExecuteTime": {
     "end_time": "2023-12-06T02:49:47.268448700Z",
     "start_time": "2023-12-06T02:49:45.520921600Z"
    }
   },
   "id": "fea764bbb0d94bab"
  },
  {
   "cell_type": "code",
   "execution_count": 70,
   "outputs": [
    {
     "data": {
      "text/plain": "             day  weekday  Date  Unnamed: 0  Time  Day  Station  Code  \\\n0     2018-01-01        0    56          56    56   56       56    56   \n1     2018-01-02        1    72          72    72   72       72    72   \n2     2018-01-03        2    64          64    64   64       64    64   \n3     2018-01-04        3    60          60    60   60       60    60   \n4     2018-01-05        4    76          76    76   76       76    76   \n...          ...      ...   ...         ...   ...  ...      ...   ...   \n2094  2023-09-26        1    63          63    63   63       63    63   \n2095  2023-09-27        2    73          73    73   73       73    73   \n2096  2023-09-28        3    57          57    57   57       57    57   \n2097  2023-09-29        4    52          52    52   52       52    52   \n2098  2023-09-30        5    62          62    62   62       62    62   \n\n      Min Delay  Min Gap  Bound  Line  Vehicle  year  month  month_day  \\\n0            56       56     40    56       56    56     56         56   \n1            72       72     56    71       72    72     72         72   \n2            64       64     56    64       64    64     64         64   \n3            60       60     42    60       60    60     60         60   \n4            76       76     64    76       76    76     76         76   \n...         ...      ...    ...   ...      ...   ...    ...        ...   \n2094         63       63     37    63       63    63     63         63   \n2095         73       73     55    73       73    73     73         73   \n2096         57       57     35    57       57    57     57         57   \n2097         52       52     34    52       52    52     52         52   \n2098         62       62     37    62       62    62     62         62   \n\n      total_daily_rides  reliability  \n0                  1068     0.947566  \n1                  1068     0.932584  \n2                  1068     0.940075  \n3                  1068     0.943820  \n4                  1068     0.928839  \n...                 ...          ...  \n2094               1068     0.941011  \n2095               1068     0.931648  \n2096               1068     0.946629  \n2097               1068     0.951311  \n2098               1068     0.941948  \n\n[2099 rows x 18 columns]",
      "text/html": "<div>\n<style scoped>\n    .dataframe tbody tr th:only-of-type {\n        vertical-align: middle;\n    }\n\n    .dataframe tbody tr th {\n        vertical-align: top;\n    }\n\n    .dataframe thead th {\n        text-align: right;\n    }\n</style>\n<table border=\"1\" class=\"dataframe\">\n  <thead>\n    <tr style=\"text-align: right;\">\n      <th></th>\n      <th>day</th>\n      <th>weekday</th>\n      <th>Date</th>\n      <th>Unnamed: 0</th>\n      <th>Time</th>\n      <th>Day</th>\n      <th>Station</th>\n      <th>Code</th>\n      <th>Min Delay</th>\n      <th>Min Gap</th>\n      <th>Bound</th>\n      <th>Line</th>\n      <th>Vehicle</th>\n      <th>year</th>\n      <th>month</th>\n      <th>month_day</th>\n      <th>total_daily_rides</th>\n      <th>reliability</th>\n    </tr>\n  </thead>\n  <tbody>\n    <tr>\n      <th>0</th>\n      <td>2018-01-01</td>\n      <td>0</td>\n      <td>56</td>\n      <td>56</td>\n      <td>56</td>\n      <td>56</td>\n      <td>56</td>\n      <td>56</td>\n      <td>56</td>\n      <td>56</td>\n      <td>40</td>\n      <td>56</td>\n      <td>56</td>\n      <td>56</td>\n      <td>56</td>\n      <td>56</td>\n      <td>1068</td>\n      <td>0.947566</td>\n    </tr>\n    <tr>\n      <th>1</th>\n      <td>2018-01-02</td>\n      <td>1</td>\n      <td>72</td>\n      <td>72</td>\n      <td>72</td>\n      <td>72</td>\n      <td>72</td>\n      <td>72</td>\n      <td>72</td>\n      <td>72</td>\n      <td>56</td>\n      <td>71</td>\n      <td>72</td>\n      <td>72</td>\n      <td>72</td>\n      <td>72</td>\n      <td>1068</td>\n      <td>0.932584</td>\n    </tr>\n    <tr>\n      <th>2</th>\n      <td>2018-01-03</td>\n      <td>2</td>\n      <td>64</td>\n      <td>64</td>\n      <td>64</td>\n      <td>64</td>\n      <td>64</td>\n      <td>64</td>\n      <td>64</td>\n      <td>64</td>\n      <td>56</td>\n      <td>64</td>\n      <td>64</td>\n      <td>64</td>\n      <td>64</td>\n      <td>64</td>\n      <td>1068</td>\n      <td>0.940075</td>\n    </tr>\n    <tr>\n      <th>3</th>\n      <td>2018-01-04</td>\n      <td>3</td>\n      <td>60</td>\n      <td>60</td>\n      <td>60</td>\n      <td>60</td>\n      <td>60</td>\n      <td>60</td>\n      <td>60</td>\n      <td>60</td>\n      <td>42</td>\n      <td>60</td>\n      <td>60</td>\n      <td>60</td>\n      <td>60</td>\n      <td>60</td>\n      <td>1068</td>\n      <td>0.943820</td>\n    </tr>\n    <tr>\n      <th>4</th>\n      <td>2018-01-05</td>\n      <td>4</td>\n      <td>76</td>\n      <td>76</td>\n      <td>76</td>\n      <td>76</td>\n      <td>76</td>\n      <td>76</td>\n      <td>76</td>\n      <td>76</td>\n      <td>64</td>\n      <td>76</td>\n      <td>76</td>\n      <td>76</td>\n      <td>76</td>\n      <td>76</td>\n      <td>1068</td>\n      <td>0.928839</td>\n    </tr>\n    <tr>\n      <th>...</th>\n      <td>...</td>\n      <td>...</td>\n      <td>...</td>\n      <td>...</td>\n      <td>...</td>\n      <td>...</td>\n      <td>...</td>\n      <td>...</td>\n      <td>...</td>\n      <td>...</td>\n      <td>...</td>\n      <td>...</td>\n      <td>...</td>\n      <td>...</td>\n      <td>...</td>\n      <td>...</td>\n      <td>...</td>\n      <td>...</td>\n    </tr>\n    <tr>\n      <th>2094</th>\n      <td>2023-09-26</td>\n      <td>1</td>\n      <td>63</td>\n      <td>63</td>\n      <td>63</td>\n      <td>63</td>\n      <td>63</td>\n      <td>63</td>\n      <td>63</td>\n      <td>63</td>\n      <td>37</td>\n      <td>63</td>\n      <td>63</td>\n      <td>63</td>\n      <td>63</td>\n      <td>63</td>\n      <td>1068</td>\n      <td>0.941011</td>\n    </tr>\n    <tr>\n      <th>2095</th>\n      <td>2023-09-27</td>\n      <td>2</td>\n      <td>73</td>\n      <td>73</td>\n      <td>73</td>\n      <td>73</td>\n      <td>73</td>\n      <td>73</td>\n      <td>73</td>\n      <td>73</td>\n      <td>55</td>\n      <td>73</td>\n      <td>73</td>\n      <td>73</td>\n      <td>73</td>\n      <td>73</td>\n      <td>1068</td>\n      <td>0.931648</td>\n    </tr>\n    <tr>\n      <th>2096</th>\n      <td>2023-09-28</td>\n      <td>3</td>\n      <td>57</td>\n      <td>57</td>\n      <td>57</td>\n      <td>57</td>\n      <td>57</td>\n      <td>57</td>\n      <td>57</td>\n      <td>57</td>\n      <td>35</td>\n      <td>57</td>\n      <td>57</td>\n      <td>57</td>\n      <td>57</td>\n      <td>57</td>\n      <td>1068</td>\n      <td>0.946629</td>\n    </tr>\n    <tr>\n      <th>2097</th>\n      <td>2023-09-29</td>\n      <td>4</td>\n      <td>52</td>\n      <td>52</td>\n      <td>52</td>\n      <td>52</td>\n      <td>52</td>\n      <td>52</td>\n      <td>52</td>\n      <td>52</td>\n      <td>34</td>\n      <td>52</td>\n      <td>52</td>\n      <td>52</td>\n      <td>52</td>\n      <td>52</td>\n      <td>1068</td>\n      <td>0.951311</td>\n    </tr>\n    <tr>\n      <th>2098</th>\n      <td>2023-09-30</td>\n      <td>5</td>\n      <td>62</td>\n      <td>62</td>\n      <td>62</td>\n      <td>62</td>\n      <td>62</td>\n      <td>62</td>\n      <td>62</td>\n      <td>62</td>\n      <td>37</td>\n      <td>62</td>\n      <td>62</td>\n      <td>62</td>\n      <td>62</td>\n      <td>62</td>\n      <td>1068</td>\n      <td>0.941948</td>\n    </tr>\n  </tbody>\n</table>\n<p>2099 rows × 18 columns</p>\n</div>"
     },
     "execution_count": 70,
     "metadata": {},
     "output_type": "execute_result"
    }
   ],
   "source": [
    "ttc_subway_df_daily[\"reliability\"] = 1 - ttc_subway_df_daily[\"Date\"] / ttc_subway_df_daily[\"total_daily_rides\"]\n",
    "\n",
    "ttc_subway_df_daily"
   ],
   "metadata": {
    "collapsed": false,
    "ExecuteTime": {
     "end_time": "2023-12-06T02:49:47.268448700Z",
     "start_time": "2023-12-06T02:49:45.527108700Z"
    }
   },
   "id": "2de7730c85f080c9"
  },
  {
   "cell_type": "code",
   "execution_count": 71,
   "outputs": [
    {
     "ename": "AttributeError",
     "evalue": "'PathCollection' object has no attribute 'set_xlabel'",
     "output_type": "error",
     "traceback": [
      "\u001B[1;31m---------------------------------------------------------------------------\u001B[0m",
      "\u001B[1;31mAttributeError\u001B[0m                            Traceback (most recent call last)",
      "Cell \u001B[1;32mIn[71], line 2\u001B[0m\n\u001B[0;32m      1\u001B[0m ax \u001B[38;5;241m=\u001B[39m plt\u001B[38;5;241m.\u001B[39mscatter(data\u001B[38;5;241m=\u001B[39mttc_subway_df_daily, x\u001B[38;5;241m=\u001B[39m \u001B[38;5;124m\"\u001B[39m\u001B[38;5;124mday\u001B[39m\u001B[38;5;124m\"\u001B[39m, y\u001B[38;5;241m=\u001B[39m\u001B[38;5;124m\"\u001B[39m\u001B[38;5;124mreliability\u001B[39m\u001B[38;5;124m\"\u001B[39m, color\u001B[38;5;241m=\u001B[39m\u001B[38;5;124m\"\u001B[39m\u001B[38;5;124mred\u001B[39m\u001B[38;5;124m\"\u001B[39m)\n\u001B[1;32m----> 2\u001B[0m \u001B[43max\u001B[49m\u001B[38;5;241;43m.\u001B[39;49m\u001B[43mset_xlabel\u001B[49m(\u001B[38;5;124m'\u001B[39m\u001B[38;5;124mYear / Month\u001B[39m\u001B[38;5;124m'\u001B[39m, fontsize\u001B[38;5;241m=\u001B[39m\u001B[38;5;241m18\u001B[39m)\n\u001B[0;32m      4\u001B[0m ax\u001B[38;5;241m.\u001B[39mset_ylabel(\u001B[38;5;124m'\u001B[39m\u001B[38;5;124mAverage Reliability, Yellow Line (\u001B[39m\u001B[38;5;124m%\u001B[39m\u001B[38;5;124m)\u001B[39m\u001B[38;5;124m'\u001B[39m, fontsize\u001B[38;5;241m=\u001B[39m\u001B[38;5;241m18\u001B[39m)\n\u001B[0;32m      5\u001B[0m plt\u001B[38;5;241m.\u001B[39mshow()\n",
      "\u001B[1;31mAttributeError\u001B[0m: 'PathCollection' object has no attribute 'set_xlabel'"
     ]
    },
    {
     "data": {
      "text/plain": "<Figure size 640x480 with 1 Axes>",
      "image/png": "[encoded data removed]"
     },
     "metadata": {},
     "output_type": "display_data"
    }
   ],
   "source": [
    "ax = plt.scatter(data=ttc_subway_df_daily, x= \"day\", y=\"reliability\", color=\"red\")\n",
    "ax.set_xlabel('Year / Month', fontsize=18)\n",
    "\n",
    "ax.set_ylabel('Average Reliability, Yellow Line (%)', fontsize=18)\n",
    "plt.show()"
   ],
   "metadata": {
    "collapsed": false,
    "ExecuteTime": {
     "end_time": "2023-12-06T02:49:47.268448700Z",
     "start_time": "2023-12-06T02:49:45.544533900Z"
    }
   },
   "id": "e928f96ddde4a5ae"
  },
  {
   "cell_type": "code",
   "execution_count": null,
   "outputs": [],
   "source": [
    "ttc_avg_reliability = ttc_subway_df_daily[\"reliability\"].mean()\n",
    "\n",
    "print(ttc_avg_reliability)"
   ],
   "metadata": {
    "collapsed": false,
    "ExecuteTime": {
     "start_time": "2023-12-06T02:49:45.932406500Z"
    }
   },
   "id": "fb2c16c39ed4901f"
  },
  {
   "cell_type": "code",
   "execution_count": null,
   "outputs": [],
   "source": [
    "ttc_subway_df_daily"
   ],
   "metadata": {
    "collapsed": false,
    "ExecuteTime": {
     "start_time": "2023-12-06T02:49:45.932406500Z"
    }
   },
   "id": "9569e9c47bcb976c"
  },
  {
   "cell_type": "code",
   "execution_count": null,
   "outputs": [],
   "source": [
    "toronto_weather = pd.read_csv(\"toronto_weather_simplified.csv\")\n",
    "\n",
    "toronto_weather"
   ],
   "metadata": {
    "collapsed": false,
    "ExecuteTime": {
     "start_time": "2023-12-06T02:49:45.945414Z"
    }
   },
   "id": "12529d6f21b7f741"
  },
  {
   "cell_type": "code",
   "execution_count": null,
   "outputs": [],
   "source": [
    "ttc_subway_df_daily[\"day\"] = ttc_subway_df_daily.day.astype(\"str\")\n",
    "toronto_weather[\"Date/Time\"] = toronto_weather[\"Date/Time\"].astype(\"str\")\n",
    "\n",
    "ttc_subway_daily_weather_reliability = pd.merge(left= ttc_subway_df_daily, right=toronto_weather, left_on=\"day\", right_on=\"Date/Time\", how=\"left\", )\n",
    " \n",
    "ttc_subway_daily_weather_reliability = ttc_subway_daily_weather_reliability[[\"day\", \"Date/Time\", \"Mean Temp (°C)\", \"reliability\"]]\n",
    " \n",
    "ttc_subway_daily_weather_reliability"
   ],
   "metadata": {
    "collapsed": false,
    "ExecuteTime": {
     "start_time": "2023-12-06T02:49:45.945414Z"
    }
   },
   "id": "e8990b1135a9f85e"
  },
  {
   "cell_type": "code",
   "execution_count": null,
   "outputs": [],
   "source": [
    "ax = sns.scatterplot(data=ttc_subway_daily_weather_reliability, x=\"day\", y=\"reliability\", hue=\"Mean Temp (°C)\", palette=\"mako\")\n",
    "ax.set_xlabel('Year / Month', fontsize=18)\n",
    "ax.set_ylabel('Average Reliability (%)', fontsize=18)\n",
    "ax.set_title(\"TTC Subway - Average Reliability and Temperature\", size=18)\n",
    "desired_ticks = 10\n",
    "xticks_positions = np.linspace(0, 2000, desired_ticks)\n",
    "plt.xticks(xticks_positions, rotation=45)\n",
    "plt.show()"
   ],
   "metadata": {
    "collapsed": false,
    "ExecuteTime": {
     "start_time": "2023-12-06T02:49:45.945414Z"
    }
   },
   "id": "c5110c48150fb79b"
  },
  {
   "cell_type": "markdown",
   "source": [
    "### Reliability Plot"
   ],
   "metadata": {
    "collapsed": false
   },
   "id": "9d7f918bed2bcab2"
  },
  {
   "cell_type": "code",
   "execution_count": null,
   "outputs": [],
   "source": [
    "#Toronto subway reliability\n",
    "sns.set()\n",
    "plt.figure(figsize=(14, 6))\n",
    "\n",
    "# Use lineplot instead of scatter\n",
    "ax = sns.lineplot(data=ttc_subway_df_daily, x=\"day\", y=\"reliability\", color=\"red\")\n",
    "\n",
    "ax.set_xlabel('Year / Month', fontsize=18)\n",
    "ax.set_ylabel('Average Reliability (%)', fontsize=18)\n",
    "ax.set_title('Toronto Subway Average Reliability over Days')\n",
    "\n",
    "plt.show()"
   ],
   "metadata": {
    "collapsed": false,
    "ExecuteTime": {
     "start_time": "2023-12-06T02:49:45.945414Z"
    }
   },
   "id": "e9d6bd0e04888478"
  },
  {
   "cell_type": "code",
   "execution_count": null,
   "outputs": [],
   "source": [
    "grouped_orange = [\"reliability\"].mean()\n",
    "ax = grouped_orange.plot(color=\"orange\")\n",
    "ax.set_xlabel('Year / Month', fontsize=18)\n",
    "\n",
    "ax.set_ylabel('Average Reliability, Orange Line (%)', fontsize=18)\n",
    "plt.show()"
   ],
   "metadata": {
    "collapsed": false,
    "ExecuteTime": {
     "start_time": "2023-12-06T02:49:45.961041600Z"
    }
   },
   "id": "1ae6e111114ff016"
  },
  {
   "cell_type": "markdown",
   "source": [
    "### Montreal (STM) Subway Data\n"
   ],
   "metadata": {
    "collapsed": false
   },
   "id": "23c2b869e870723"
  },
  {
   "cell_type": "code",
   "execution_count": null,
   "outputs": [],
   "source": [
    "stm_df.head()"
   ],
   "metadata": {
    "collapsed": false,
    "ExecuteTime": {
     "start_time": "2023-12-06T02:49:45.961041600Z"
    }
   },
   "id": "b4a9720bd59bb41f"
  },
  {
   "cell_type": "code",
   "execution_count": null,
   "outputs": [],
   "source": [
    "stm_df_backup = stm_df"
   ],
   "metadata": {
    "collapsed": false,
    "ExecuteTime": {
     "start_time": "2023-12-06T02:49:45.961041600Z"
    }
   },
   "id": "dd831d1297d948e0"
  },
  {
   "cell_type": "code",
   "execution_count": null,
   "outputs": [],
   "source": [
    "stm_df.head()"
   ],
   "metadata": {
    "collapsed": false,
    "ExecuteTime": {
     "start_time": "2023-12-06T02:49:45.961041600Z"
    }
   },
   "id": "fda1166c2010a8c"
  },
  {
   "cell_type": "code",
   "execution_count": null,
   "outputs": [],
   "source": [
    "stm_df.describe()"
   ],
   "metadata": {
    "collapsed": false,
    "ExecuteTime": {
     "start_time": "2023-12-06T02:49:45.976667400Z"
    }
   },
   "id": "4b9bc53f65f1cc65"
  },
  {
   "cell_type": "code",
   "execution_count": null,
   "outputs": [],
   "source": [
    "stm_df_causes = stm_df_backup.groupby(\"Cause primaire\").mean(\"delay\").sort_values(by = \"delay\", ascending=False).reset_index()\n",
    "\n",
    "stm_df_causes"
   ],
   "metadata": {
    "collapsed": false,
    "ExecuteTime": {
     "start_time": "2023-12-06T02:49:45.976667400Z"
    }
   },
   "id": "380210e87c3c347e"
  },
  {
   "cell_type": "code",
   "execution_count": null,
   "outputs": [],
   "source": [
    "sns.barplot(data=stm_df_causes, x=\"Cause primaire\", y = \"delay\", palette=\"viridis\")\n",
    "plt.xticks(rotation=45)\n",
    "plt.title(\"Average Delay by Reported Cause\")\n",
    "plt.xlabel(\"Cause of Delay\")\n",
    "plt.ylabel(\"Average Delay (minutes)\")"
   ],
   "metadata": {
    "collapsed": false,
    "ExecuteTime": {
     "start_time": "2023-12-06T02:49:45.976667400Z"
    }
   },
   "id": "332187c7b3b6e88"
  },
  {
   "cell_type": "code",
   "execution_count": null,
   "outputs": [],
   "source": [
    "stm_df[\"cause\"] = stm_df[\"Cause primaire\"] + \" \" + stm_df[\"Cause secondaire\"]"
   ],
   "metadata": {
    "collapsed": false,
    "ExecuteTime": {
     "start_time": "2023-12-06T02:49:45.976667400Z"
    }
   },
   "id": "10d62f940fd97fbd"
  },
  {
   "cell_type": "code",
   "execution_count": null,
   "outputs": [],
   "source": [
    "stm_df = stm_df.drop(columns=[\"Jour calendaire\", \"Année civile/mois\", \"Évacuation\", \"Porte\", \"KFS\", \"Véhicule\", \"Dommage matériel\", \"Urgence métro\", \"CAT\", \"Cause secondaire\", \"Cause primaire\"])"
   ],
   "metadata": {
    "collapsed": false,
    "ExecuteTime": {
     "start_time": "2023-12-06T02:49:45.992285200Z"
    }
   },
   "id": "29f3d1c7fc220f9b"
  },
  {
   "cell_type": "code",
   "execution_count": null,
   "outputs": [],
   "source": [
    "translate_key = {\n",
    "    \"1\": \"verte\", \n",
    "    \"2\": \"orange\",\n",
    "    \"4\": \"jaune\",\n",
    "    \"5\": \"bleue\"\n",
    "}\n",
    "\n",
    "stm_df[\"Ligne\"] = stm_df[\"Ligne\"].replace(to_replace=translate_key.keys(), value=translate_key.values())"
   ],
   "metadata": {
    "collapsed": false,
    "ExecuteTime": {
     "start_time": "2023-12-06T02:49:45.992285200Z"
    }
   },
   "id": "a8a1e3f1fb32f7b5"
  },
  {
   "cell_type": "code",
   "execution_count": null,
   "outputs": [],
   "source": [
    "stm_df[\"time_dt\"] = pd.to_datetime(stm_df[\"time_dt\"])"
   ],
   "metadata": {
    "collapsed": false,
    "ExecuteTime": {
     "start_time": "2023-12-06T02:49:45.992285200Z"
    }
   },
   "id": "a82a85bfb42bd67d"
  },
  {
   "cell_type": "code",
   "execution_count": null,
   "outputs": [],
   "source": [
    "stm_df.groupby('Jour de la semaine')[\"Jour de la semaine\"].count()"
   ],
   "metadata": {
    "collapsed": false,
    "ExecuteTime": {
     "start_time": "2023-12-06T02:49:46.007907300Z"
    }
   },
   "id": "7a547941ca15c677"
  },
  {
   "cell_type": "code",
   "execution_count": null,
   "outputs": [],
   "source": [
    "orange_ridesperday_dict = {\n",
    "    \"1\": math.ceil((1.5+7+6.5)*60/5.5 + (2+2)*60/4.5),\n",
    "    \"2\": math.ceil((1.5+7+6.5)*60/5.5 + (2+2)*60/4.5),\n",
    "    \"3\": math.ceil((1.5+7+6.5)*60/5.5 + (2+2)*60/4.5),\n",
    "    \"4\": math.ceil((1.5+7+6.5)*60/5.5 + (2+2)*60/4.5),\n",
    "    \"5\": math.ceil((1.5+7+6.5)*60/5.5 + (2+2)*60/4.5),\n",
    "    \"6\": math.ceil(19.5*60/8),\n",
    "    \"7\": math.ceil(19*60/8)\n",
    "}"
   ],
   "metadata": {
    "collapsed": false,
    "ExecuteTime": {
     "start_time": "2023-12-06T02:49:46.007907300Z"
    }
   },
   "id": "8093550edca9d6b5"
  },
  {
   "cell_type": "code",
   "execution_count": null,
   "outputs": [],
   "source": [
    "verte_ridesperday_dict = {\n",
    "    \"1\": math.ceil((1+7+7.25)*60/6.5 + (2+2)*60/3.5),\n",
    "    \"2\": math.ceil((1+7+7.25)*60/6.5 + (2+2)*60/3.5),\n",
    "    \"3\": math.ceil((1+7+7.25)*60/6.5 + (2+2)*60/3.5),\n",
    "    \"4\": math.ceil((1+7+7.25)*60/6.5 + (2+2)*60/3.5),\n",
    "    \"5\": math.ceil((1+7+7.25)*60/6.5 + (2+2)*60/3.5),\n",
    "    \"6\": math.ceil(19.5*60/9),\n",
    "    \"7\": math.ceil(19*60/9)\n",
    "}"
   ],
   "metadata": {
    "collapsed": false,
    "ExecuteTime": {
     "start_time": "2023-12-06T02:49:46.014413900Z"
    }
   },
   "id": "3456fa397c4610a7"
  },
  {
   "cell_type": "code",
   "execution_count": null,
   "outputs": [],
   "source": [
    "jaune_ridesperday_dict = {\n",
    "    \"1\": math.ceil((1.5+7+7)*60/6.5 + (2+2)*60/3.5),\n",
    "    \"2\": math.ceil((1.5+7+7)*60/6.5 + (2+2)*60/3.5),\n",
    "    \"3\": math.ceil((1.5+7+7)*60/6.5 + (2+2)*60/3.5),\n",
    "    \"4\": math.ceil((1.5+7+7)*60/6.5 + (2+2)*60/3.5),\n",
    "    \"5\": math.ceil((1.5+7+7)*60/6.5 + (2+2)*60/3.5),\n",
    "    \"6\": math.ceil(19.5*60/8),\n",
    "    \"7\": math.ceil(19*60/8)\n",
    "}"
   ],
   "metadata": {
    "collapsed": false,
    "ExecuteTime": {
     "start_time": "2023-12-06T02:49:46.014413900Z"
    }
   },
   "id": "b71bc1aeeeb97c22"
  },
  {
   "cell_type": "code",
   "execution_count": null,
   "outputs": [],
   "source": [
    "bleue_ridesperday_dict = {\n",
    "    \"1\": math.ceil((1.5+7+6.75)*60/7 + (2+2)*60/5),\n",
    "    \"2\": math.ceil((1.5+7+6.75)*60/7 + (2+2)*60/5),\n",
    "    \"3\": math.ceil((1.5+7+6.75)*60/7 + (2+2)*60/5),\n",
    "    \"4\": math.ceil((1.5+7+6.75)*60/7 + (2+2)*60/5),\n",
    "    \"5\": math.ceil((1.5+7+6.75)*60/7 + (2+2)*60/5),\n",
    "    \"6\": math.ceil(19.5*60/9.5),\n",
    "    \"7\": math.ceil(19*60/9.5)\n",
    "}"
   ],
   "metadata": {
    "collapsed": false,
    "ExecuteTime": {
     "start_time": "2023-12-06T02:49:46.014413900Z"
    }
   },
   "id": "f123ff616aee8753"
  },
  {
   "cell_type": "code",
   "execution_count": null,
   "outputs": [],
   "source": [
    "avg_daily_rides = {\n",
    "    \"1\": 205,\n",
    "    \"2\": 205,\n",
    "    \"3\": 205,\n",
    "    \"4\": 205,\n",
    "    \"5\": 205,\n",
    "    \"6\": 135,\n",
    "    \"7\": 130\n",
    "}"
   ],
   "metadata": {
    "collapsed": false,
    "ExecuteTime": {
     "start_time": "2023-12-06T02:49:46.023922Z"
    }
   },
   "id": "34308687cfbd5677"
  },
  {
   "cell_type": "code",
   "execution_count": null,
   "outputs": [],
   "source": [
    "print(\"Orange: \", orange_ridesperday_dict)\n",
    "print(\"Verte: \", verte_ridesperday_dict)\n",
    "print(\"Jaune: \", jaune_ridesperday_dict)\n",
    "print(\"Bleue: \", bleue_ridesperday_dict)\n",
    "print(\"Avg: \", avg_daily_rides)"
   ],
   "metadata": {
    "collapsed": false,
    "ExecuteTime": {
     "start_time": "2023-12-06T02:49:46.023922Z"
    }
   },
   "id": "baf37e504a52b881"
  },
  {
   "cell_type": "code",
   "execution_count": null,
   "outputs": [],
   "source": [
    "row_collector = []\n",
    "\n",
    "for row in stm_df[\"Ligne\"]:\n",
    "    print(row)\n",
    "    if row.find(\"1\") >= 0:\n",
    "        temp = \"Multi-Line\"\n",
    "    elif row.find(\"2\") >= 0:\n",
    "        temp = \"Multi-Line\"\n",
    "    elif row.find(\"4\") >= 0:\n",
    "        temp = \"Multi-Line\"\n",
    "    elif row.find(\"5\") >= 0:\n",
    "        temp = \"Multi-Line\"\n",
    "    else:\n",
    "        temp = row\n",
    "    row_collector.append(temp)\n",
    "\n",
    "stm_df[\"Ligne\"] = row_collector\n",
    "\n",
    "stm_df.head()\n",
    "    "
   ],
   "metadata": {
    "collapsed": false,
    "ExecuteTime": {
     "start_time": "2023-12-06T02:49:46.023922Z"
    }
   },
   "id": "c8ab3c0e5b9dda1d"
  },
  {
   "cell_type": "code",
   "execution_count": null,
   "outputs": [],
   "source": [
    "stm_df = stm_df[stm_df[\"Ligne\"] != \"Non affecté\"]"
   ],
   "metadata": {
    "collapsed": false,
    "ExecuteTime": {
     "start_time": "2023-12-06T02:49:46.039549300Z"
    }
   },
   "id": "4050cb5645cc7805"
  },
  {
   "cell_type": "code",
   "execution_count": null,
   "outputs": [],
   "source": [
    "stm_df.head()"
   ],
   "metadata": {
    "collapsed": false,
    "ExecuteTime": {
     "start_time": "2023-12-06T02:49:46.039549300Z"
    }
   },
   "id": "ac167a034ebc8c43"
  },
  {
   "cell_type": "code",
   "execution_count": null,
   "outputs": [],
   "source": [
    "stm_df[\"date\"] = stm_df[\"time_dt\"].dt.date\n",
    "\n",
    "stm_delay_perday = stm_df.groupby([\"date\", \"Jour de la semaine\", \"Ligne\"]).count().reset_index()"
   ],
   "metadata": {
    "collapsed": false,
    "ExecuteTime": {
     "start_time": "2023-12-06T02:49:46.039549300Z"
    }
   },
   "id": "aaa01f7dd5a32bb5"
  },
  {
   "cell_type": "code",
   "execution_count": null,
   "outputs": [],
   "source": [
    "stm_delay_perday.head()"
   ],
   "metadata": {
    "collapsed": false,
    "ExecuteTime": {
     "start_time": "2023-12-06T02:49:46.039549300Z"
    }
   },
   "id": "b2a1f1d5a68c0000"
  },
  {
   "cell_type": "code",
   "execution_count": null,
   "outputs": [],
   "source": [
    "stm_delay_perday.head()\n",
    "\n",
    "stm_delay_perday[\"weekday\"] = stm_delay_perday[\"Jour de la semaine\"] + 1\n",
    " \n",
    "stm_delay_perday.head()"
   ],
   "metadata": {
    "collapsed": false,
    "ExecuteTime": {
     "start_time": "2023-12-06T02:49:46.039549300Z"
    }
   },
   "id": "8e1d2c16b1a4182c"
  },
  {
   "cell_type": "code",
   "execution_count": null,
   "outputs": [],
   "source": [
    "def define_daily_rides(row_temp):\n",
    "    line_temp = str(row_temp[\"Ligne\"])\n",
    "    day = str(row_temp[\"weekday\"])\n",
    "    print(line_temp)\n",
    "    \n",
    "    if line_temp == \"Ligne bleue\":\n",
    "        return bleue_ridesperday_dict.get(day)\n",
    "    elif line_temp == \"Ligne orange\":\n",
    "        return orange_ridesperday_dict.get(day)\n",
    "    elif line_temp == \"Ligne verte\":\n",
    "        return verte_ridesperday_dict.get(day)\n",
    "    elif line_temp == \"Ligne jaune\":\n",
    "        return jaune_ridesperday_dict.get(day)\n",
    "    else: \n",
    "        print(\"returned other\")\n",
    "        return avg_daily_rides.get(day)"
   ],
   "metadata": {
    "collapsed": false,
    "ExecuteTime": {
     "start_time": "2023-12-06T02:49:46.039549300Z"
    }
   },
   "id": "b365e3aa6dc9aeb6"
  },
  {
   "cell_type": "code",
   "execution_count": null,
   "outputs": [],
   "source": [
    "stm_delay_perday[\"total_daily_rides\"] = stm_delay_perday.apply(define_daily_rides, axis=1)"
   ],
   "metadata": {
    "collapsed": false,
    "ExecuteTime": {
     "start_time": "2023-12-06T02:49:46.039549300Z"
    }
   },
   "id": "b71f4152bde5f679"
  },
  {
   "cell_type": "code",
   "execution_count": null,
   "outputs": [],
   "source": [
    "stm_delay_perday"
   ],
   "metadata": {
    "collapsed": false,
    "ExecuteTime": {
     "start_time": "2023-12-06T02:49:46.055169400Z"
    }
   },
   "id": "9a45459b85ba1f3a"
  },
  {
   "cell_type": "code",
   "execution_count": null,
   "outputs": [],
   "source": [
    "stm_delay_perday[\"reliability\"] = 1 - stm_delay_perday[\"delay\"] / stm_delay_perday[\"total_daily_rides\"]\n",
    "\n",
    "stm_delay_perday"
   ],
   "metadata": {
    "collapsed": false,
    "ExecuteTime": {
     "start_time": "2023-12-06T02:49:46.055169400Z"
    }
   },
   "id": "70f0dc9cda785603"
  },
  {
   "cell_type": "markdown",
   "source": [
    "### Montreal Weather "
   ],
   "metadata": {
    "collapsed": false
   },
   "id": "c02792d46d44de10"
  },
  {
   "cell_type": "code",
   "execution_count": null,
   "outputs": [],
   "source": [
    "montreal_weather_df = pd.read_csv(\"montreal_weather_simplified.csv\")"
   ],
   "metadata": {
    "collapsed": false,
    "ExecuteTime": {
     "start_time": "2023-12-06T02:49:46.055169400Z"
    }
   },
   "id": "bdb39ed0a5c1bf47"
  },
  {
   "cell_type": "code",
   "execution_count": null,
   "outputs": [],
   "source": [
    "montreal_weather_means = montreal_weather_df[[\"Mean Temp (°C)\", \"Date/Time\"]]\n",
    "montreal_weather_means"
   ],
   "metadata": {
    "collapsed": false,
    "ExecuteTime": {
     "start_time": "2023-12-06T02:49:46.055169400Z"
    }
   },
   "id": "7db95975223bcb24"
  },
  {
   "cell_type": "code",
   "execution_count": null,
   "outputs": [],
   "source": [
    "stm_df_temp = stm_df\n",
    "stm_df_temp[\"date\"] = stm_df_temp[\"date\"].astype(str)\n",
    "\n",
    "stm_df_weather = pd.merge(left=stm_df, right=montreal_weather_means, left_on=\"date\", right_on=\"Date/Time\", how=\"left\")"
   ],
   "metadata": {
    "collapsed": false,
    "ExecuteTime": {
     "start_time": "2023-12-06T02:49:46.055169400Z"
    }
   },
   "id": "f744d3638fbb7dac"
  },
  {
   "cell_type": "code",
   "execution_count": null,
   "outputs": [],
   "source": [
    "stm_df_weather"
   ],
   "metadata": {
    "collapsed": false,
    "ExecuteTime": {
     "start_time": "2023-12-06T02:49:46.055169400Z"
    }
   },
   "id": "9d88d34a8aee2282"
  },
  {
   "cell_type": "code",
   "execution_count": null,
   "outputs": [],
   "source": [
    "stm_df_weather[\"date\"] = pd.to_datetime(stm_df_weather[\"date\"])\n",
    "stm_df_weather.plot(x=\"date\", y=\"Mean Temp (°C)\")"
   ],
   "metadata": {
    "collapsed": false,
    "ExecuteTime": {
     "start_time": "2023-12-06T02:49:46.055169400Z"
    }
   },
   "id": "75734142f7b434d8"
  },
  {
   "cell_type": "code",
   "execution_count": null,
   "outputs": [],
   "source": [
    "stm_df_weather.head()"
   ],
   "metadata": {
    "collapsed": false,
    "ExecuteTime": {
     "start_time": "2023-12-06T02:49:46.070791500Z"
    }
   },
   "id": "f3a89c34e199793"
  },
  {
   "cell_type": "code",
   "execution_count": null,
   "outputs": [],
   "source": [
    "stm_df_weather_monthly = stm_df_weather.groupby([\"Année civile\", \"Mois calendrier\"]).agg({\"Mean Temp (°C)\": 'mean', \"delay\": 'sum'}).reset_index()\n",
    "\n",
    "ax = stm_df_weather_monthly.plot()\n"
   ],
   "metadata": {
    "collapsed": false,
    "ExecuteTime": {
     "start_time": "2023-12-06T02:49:46.070791500Z"
    }
   },
   "id": "8b5f2e50861db3cd"
  },
  {
   "cell_type": "code",
   "execution_count": null,
   "outputs": [],
   "source": [
    "stm_df_weather_daily = stm_df_weather.groupby([\"date\", \"Ligne\"])[[\"delay\", \"Mean Temp (°C)\"]].mean().reset_index()\n",
    "\n",
    "stm_df_weather_daily"
   ],
   "metadata": {
    "collapsed": false,
    "ExecuteTime": {
     "start_time": "2023-12-06T02:49:46.070791500Z"
    }
   },
   "id": "a0aabb953fd53f4a"
  },
  {
   "cell_type": "code",
   "execution_count": null,
   "outputs": [],
   "source": [
    "stm_delay_perday[\"date\"] = stm_delay_perday[\"date\"].astype(str)\n",
    "stm_df_weather_daily[\"date\"] = stm_df_weather_daily[\"date\"].astype(str)\n",
    "\n",
    "stm_df_weather_reliability = pd.merge(left=stm_df_weather_daily, right= stm_delay_perday, left_on=[\"date\", \"Ligne\"], right_on=[\"date\", \"Ligne\"], how=\"left\")\n",
    "\n",
    "stm_df_weather_reliability.drop(columns=[\"Jour de la semaine\", \"Jour du mois\", \"Numero d\\'incident\", \"Type d\\'incident\", \"Symptome\", \"Numéro de tournée\", \"Heure de l\\'incident\", \"Heure de reprise\", \"Incident en minutes\", \"Porte de voiture\", \"Type de matériel\", \"Code de lieu\", \"time_dt\", \"delay_y\", \"cause\", \"weekday\"], inplace=True)\n",
    "\n",
    "stm_df_weather_reliability = stm_df_weather_reliability.groupby(\"date\").mean([\"Mean Temp (°C)\", \"reliability\"])\n",
    "\n",
    "stm_df_weather_reliability"
   ],
   "metadata": {
    "collapsed": false,
    "ExecuteTime": {
     "start_time": "2023-12-06T02:49:46.070791500Z"
    }
   },
   "id": "c20f7e78c8eae54d"
  },
  {
   "cell_type": "code",
   "execution_count": null,
   "outputs": [],
   "source": [
    "ax = sns.scatterplot(data=stm_df_weather_reliability, x=\"date\", y=\"reliability\", hue=\"Mean Temp (°C)\", palette=\"mako\")\n",
    "ax.set_xlabel('Year / Month', fontsize=18)\n",
    "ax.set_ylabel('Average Reliability (%)', fontsize=18)\n",
    "ax.set_title(\"STM - Average Reliability and Temperature\", size=18)\n",
    "desired_ticks = 10\n",
    "xticks_positions = np.linspace(0, 1500, desired_ticks)\n",
    "plt.xticks(xticks_positions, rotation=45)\n",
    "plt.show()"
   ],
   "metadata": {
    "collapsed": false,
    "ExecuteTime": {
     "start_time": "2023-12-06T02:49:46.070791500Z"
    }
   },
   "id": "b35e57f5810d685"
  },
  {
   "cell_type": "code",
   "execution_count": null,
   "outputs": [],
   "source": [
    "stm_df_weather_monthly[\"year-month\"] = stm_df_weather_monthly[\"Année civile\"].astype(str) + \"-\" + stm_df_weather_monthly[\"Mois calendrier\"].astype(str)\n",
    "\n",
    "\n",
    "#First line and first axis\n",
    "ax1= sns.lineplot(x=\"year-month\", y='delay', data=stm_df_weather_monthly, label= 'Delay')\n",
    "ax1.set_ylabel('Avg Min Delay per day')\n",
    "ax1.set_xlabel('Date')\n",
    "# ax1.set_ylim([0, 23000])\n",
    "ax1.legend(loc='upper left')\n",
    "# ax1.set_xticklabels(ax1.get_xticklabels(), rotation=45)\n",
    "desired_ticks = 10\n",
    "xticks_positions = np.linspace(0, 100, desired_ticks)\n",
    "plt.xticks(xticks_positions)\n",
    "\n",
    "# Second line on the second y-axis\n",
    "ax2 = ax1.twinx()\n",
    "ax2.set_ylim([0, 60])\n",
    "ax2.set_ylabel('Mean Temp (°C)')\n",
    "ax2.set_xlabel('Date')\n",
    "ax2.legend(loc='upper right')\n",
    "sns.lineplot(x=\"year-month\", y='Mean Temp (°C)', data=stm_df_weather_monthly, ax=ax2, color='orange', label='Mean Temperature')\n",
    "\n",
    "# Limit the range (excluding last date which has no data)\n",
    "# plt.xlim([pd.to_datetime('2019-05-08'), pd.to_datetime('2019-06-22')])\n",
    "plt.title('Mean Delay and Mean Monthly Temperature')\n",
    "\n",
    "plt.show()"
   ],
   "metadata": {
    "collapsed": false,
    "ExecuteTime": {
     "start_time": "2023-12-06T02:49:46.070791500Z"
    }
   },
   "id": "5e2c450203596975"
  },
  {
   "cell_type": "markdown",
   "source": [
    "## STM GRAPHS AND STATS\n"
   ],
   "metadata": {
    "collapsed": false
   },
   "id": "65e8048a3981f96a"
  },
  {
   "cell_type": "code",
   "execution_count": null,
   "outputs": [],
   "source": [
    "grouped_jaune = stm_delay_perday[stm_delay_perday[\"Ligne\"] == \"Ligne jaune\"].groupby(\"date\")[\"reliability\"].mean()\n",
    "ax = grouped_jaune.plot(color=\"yellow\")\n",
    "ax.set_xlabel('Year / Month', fontsize=18)\n",
    "\n",
    "ax.set_ylabel('Average Reliability, Yellow Line (%)', fontsize=18)\n",
    "plt.show()"
   ],
   "metadata": {
    "collapsed": false,
    "ExecuteTime": {
     "start_time": "2023-12-06T02:49:46.070791500Z"
    }
   },
   "id": "cf1d75e25a215e1e"
  },
  {
   "cell_type": "code",
   "execution_count": null,
   "outputs": [],
   "source": [
    "grouped_bleue = stm_delay_perday[stm_delay_perday[\"Ligne\"] == \"Ligne bleue\"].groupby(\"date\")[\"reliability\"].mean()\n",
    "ax = grouped_bleue.plot()\n",
    "ax.set_xlabel('Year / Month', fontsize=18)\n",
    "\n",
    "ax.set_ylabel('Average Reliability, Blue Line (%)', fontsize=18)\n",
    "plt.show()"
   ],
   "metadata": {
    "collapsed": false,
    "ExecuteTime": {
     "start_time": "2023-12-06T02:49:46.086439Z"
    }
   },
   "id": "4d6e46ddc9a7c8f5"
  },
  {
   "cell_type": "code",
   "execution_count": null,
   "outputs": [],
   "source": [
    "grouped_verte = stm_delay_perday[stm_delay_perday[\"Ligne\"] == \"Ligne verte\"].groupby(\"date\")[\"reliability\"].mean()\n",
    "ax = grouped_verte.plot(color=\"green\")\n",
    "ax.set_xlabel('Year / Month', fontsize=18)\n",
    "\n",
    "ax.set_ylabel('Average Reliability, Green Line (%)', fontsize=18)\n",
    "plt.show()"
   ],
   "metadata": {
    "collapsed": false,
    "ExecuteTime": {
     "start_time": "2023-12-06T02:49:46.086439Z"
    }
   },
   "id": "8328969980202184"
  },
  {
   "cell_type": "code",
   "execution_count": null,
   "outputs": [],
   "source": [
    "grouped_orange = stm_delay_perday[stm_delay_perday[\"Ligne\"] == \"Ligne orange\"].groupby(\"date\")[\"reliability\"].mean()\n",
    "ax = grouped_orange.plot(color=\"orange\")\n",
    "ax.set_xlabel('Year / Month', fontsize=18)\n",
    "\n",
    "ax.set_ylabel('Average Reliability, Orange Line (%)', fontsize=18)\n",
    "plt.show()"
   ],
   "metadata": {
    "collapsed": false,
    "ExecuteTime": {
     "start_time": "2023-12-06T02:49:46.086439Z"
    }
   },
   "id": "5f378726ca4aecee"
  },
  {
   "cell_type": "code",
   "execution_count": null,
   "outputs": [],
   "source": [
    "plt.scatter(stm_df['time_dt'], stm_df['delay'])\n",
    "plt.show()"
   ],
   "metadata": {
    "collapsed": false,
    "ExecuteTime": {
     "start_time": "2023-12-06T02:49:46.086439Z"
    }
   },
   "id": "e6a483f2ea592d4e"
  },
  {
   "cell_type": "code",
   "execution_count": null,
   "outputs": [],
   "source": [
    "# PLot boxplot of delay per year\n",
    "plt.figure(figsize=(10, 5))\n",
    "plt.title('Subway Delay segmented per year', fontsize=18)\n",
    "ax = sns.boxplot(x = stm_df['Mois calendrier'] , y = stm_df['delay'])\n",
    "ax.xaxis.set_tick_params(labelsize=14)\n",
    "ax.yaxis.set_tick_params(labelsize=14)\n",
    "ax.set_xlabel('month', fontsize=18)\n",
    "ax.set_ylabel('Delay', fontsize=18)\n",
    "plt.show()"
   ],
   "metadata": {
    "collapsed": false,
    "ExecuteTime": {
     "start_time": "2023-12-06T02:49:46.086439Z"
    }
   },
   "id": "87b9d6f80c48c3cc"
  },
  {
   "cell_type": "code",
   "execution_count": null,
   "outputs": [],
   "source": [
    "ax = stm_df.groupby([\"Année civile\", \"Mois calendrier\"])[\"delay\"].sum().plot()\n",
    "ax.set_xlabel('Year / Month', fontsize=18)\n",
    "ax.set_ylabel('Total Delay (minutes)', fontsize=18)\n",
    "plt.title('Total STM Subway Delay Over Time', fontsize=18)\n",
    "plt.show()"
   ],
   "metadata": {
    "collapsed": false,
    "ExecuteTime": {
     "start_time": "2023-12-06T02:49:46.102034300Z"
    }
   },
   "id": "1be4b0140107a284"
  },
  {
   "cell_type": "code",
   "execution_count": null,
   "outputs": [],
   "source": [
    "ax = stm_df.groupby([\"Année civile\", \"Mois calendrier\"])[\"delay\"].mean().plot()\n",
    "ax.set_xlabel('Year / Month', fontsize=18)\n",
    "ax.set_ylabel('Average Delay (minutes)', fontsize=18)\n",
    "plt.title('Average STM Subway Delay Over Time', fontsize=18)\n",
    "plt.show()"
   ],
   "metadata": {
    "collapsed": false,
    "ExecuteTime": {
     "start_time": "2023-12-06T02:49:46.102034300Z"
    }
   },
   "id": "4d4d5676796f3c95"
  },
  {
   "cell_type": "code",
   "execution_count": null,
   "outputs": [],
   "source": [
    "ax = stm_df.groupby([\"Année civile\", \"Mois calendrier\"])[\"delay\"].mean().plot()\n",
    "ax.set_xlabel('Year / Month', fontsize=18)\n",
    "ax.set_ylabel('Average Delay (minutes)', fontsize=18)\n",
    "plt.show()"
   ],
   "metadata": {
    "collapsed": false,
    "ExecuteTime": {
     "start_time": "2023-12-06T02:49:46.102034300Z"
    }
   },
   "id": "468149a910120984"
  },
  {
   "cell_type": "code",
   "execution_count": null,
   "outputs": [],
   "source": [
    "grouped = stm_df.groupby(['Ligne', stm_df['time_dt'].dt.date])['delay'].sum().reset_index()\n",
    "\n",
    "# Plot summed delay for each day for each line\n",
    "for line, group in grouped.groupby('Ligne'):\n",
    "    plt.scatter(group['time_dt'], group['delay'], label=line)\n",
    "\n",
    "\n",
    "# Set labels and title\n",
    "ax.set_xlabel('Time', fontsize=18)\n",
    "ax.set_ylabel('Total Daily Delay (minutes)', fontsize=18)\n",
    "plt.show()"
   ],
   "metadata": {
    "collapsed": false,
    "ExecuteTime": {
     "start_time": "2023-12-06T02:49:46.102034300Z"
    }
   },
   "id": "d2d0471ac38d8310"
  },
  {
   "cell_type": "code",
   "execution_count": null,
   "outputs": [],
   "source": [
    "grouped = stm_df.groupby(['Ligne', stm_df['time_dt'].dt.date])['delay'].mean().reset_index()\n",
    "\n",
    "# Plot summed delay for each day for each line\n",
    "for line, group in grouped.groupby('Ligne'):\n",
    "    plt.scatter(group['time_dt'], group['delay'], label=line)\n",
    "\n",
    "# Set labels and title\n",
    "ax.set_xlabel('Time', fontsize=18)\n",
    "ax.set_ylabel('Average Delay (minutes)', fontsize=18)\n",
    "plt.show()"
   ],
   "metadata": {
    "collapsed": false,
    "ExecuteTime": {
     "start_time": "2023-12-06T02:49:46.102034300Z"
    }
   },
   "id": "1cf31bfa7510cd4a"
  },
  {
   "cell_type": "code",
   "execution_count": null,
   "outputs": [],
   "source": [
    "delay_by_month = stm_df.groupby([\"Mois calendrier\", \"Année civile\"])[\"delay\"].sum()\n",
    "\n",
    "delay_by_month"
   ],
   "metadata": {
    "collapsed": false,
    "ExecuteTime": {
     "start_time": "2023-12-06T02:49:46.102034300Z"
    }
   },
   "id": "f95027716c72441"
  },
  {
   "cell_type": "code",
   "execution_count": null,
   "outputs": [],
   "source": [
    "avg_delay_by_month = stm_df.groupby([\"Mois calendrier\", \"Année civile\"])[\"delay\"].mean()\n",
    "\n",
    "avg_delay_by_month"
   ],
   "metadata": {
    "collapsed": false,
    "ExecuteTime": {
     "start_time": "2023-12-06T02:49:46.102034300Z"
    }
   },
   "id": "a13446d20574673c"
  },
  {
   "cell_type": "code",
   "execution_count": null,
   "outputs": [],
   "source": [
    "stm_average_delay = avg_delay_by_month.mean()\n",
    "print(stm_average_delay)"
   ],
   "metadata": {
    "collapsed": false,
    "ExecuteTime": {
     "start_time": "2023-12-06T02:49:46.114569300Z"
    }
   },
   "id": "439b650edee11381"
  },
  {
   "cell_type": "code",
   "execution_count": null,
   "outputs": [],
   "source": [
    "stm_delay_perday\n"
   ],
   "metadata": {
    "collapsed": false,
    "ExecuteTime": {
     "start_time": "2023-12-06T02:49:46.114569300Z"
    }
   },
   "id": "2fb35dc866fd7240"
  },
  {
   "cell_type": "code",
   "execution_count": null,
   "outputs": [],
   "source": [
    "stm_average_reliability = stm_delay_perday[\"reliability\"].mean()\n",
    "\n",
    "print(stm_average_reliability)"
   ],
   "metadata": {
    "collapsed": false,
    "ExecuteTime": {
     "start_time": "2023-12-06T02:49:46.118078100Z"
    }
   },
   "id": "b1f5a39dc3c34017"
  },
  {
   "cell_type": "code",
   "execution_count": null,
   "outputs": [],
   "source": [],
   "metadata": {
    "collapsed": false,
    "ExecuteTime": {
     "start_time": "2023-12-06T02:49:46.118078100Z"
    }
   },
   "id": "b233ddd7f13951fd"
  }
 ],
 "metadata": {
  "kernelspec": {
   "display_name": "Python 3 (ipykernel)",
   "language": "python",
   "name": "python3"
  },
  "language_info": {
   "codemirror_mode": {
    "name": "ipython",
    "version": 3
   },
   "file_extension": ".py",
   "mimetype": "text/x-python",
   "name": "python",
   "nbconvert_exporter": "python",
   "pygments_lexer": "ipython3",
   "version": "3.12.0"
  }
 },
 "nbformat": 4,
 "nbformat_minor": 5
}
